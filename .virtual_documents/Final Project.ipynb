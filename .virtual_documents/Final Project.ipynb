import pandas as pd
import numpy as np

get_ipython().run_line_magic("matplotlib", " inline")


data_raw = pd.read_csv("data/Hotel Reservations.csv")


data_raw.drop(columns=['Booking_ID', 'arrival_year', 'arrival_month', 'arrival_date'])


# Preprocessing

numerical_columns = ["no_of_adults", "total number of nights", "lead_time", "% canceled reservations", "average_price_per_room", "no_of_special_requests" ]
categorical_columns = ["type_of_meal_plan", "room_type_reserved", "market_segment_type"]
binary_columns = ["children", "repeated_guest", "required_car_parking_space" ]


def children(n):
    if n == 0:
        return 0
    else:
        return 1


data_raw['no_of_children'] = data_raw['no_of_children'].apply(children)
data_raw.rename(columns={'no_of_children': 'children'}, inplace=True)


data_raw.head()


# data_raw['cx_rsvn_pcg'] = 
total_book
data_raw['no_of_previous_cancellations'].dtype()
# /(data_raw['(no_of_previous_cancellations'] + data_raw['no_of_previous_bookings_not_canceled'])





