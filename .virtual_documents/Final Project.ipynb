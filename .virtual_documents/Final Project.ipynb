import pandas as pd
import numpy as np
import seaborn as sns

import matplotlib.pyplot as plt

from sklearn.model_selection import cross_val_score, cross_validate, train_test_split
from sklearn.pipeline import Pipeline, make_pipeline
from sklearn.preprocessing import OneHotEncoder, StandardScaler, OrdinalEncoder

from sklearn.compose import (
    ColumnTransformer,
    TransformedTargetRegressor,
    make_column_transformer,
)

from sklearn.metrics import accuracy_score, f1_score, precision_score, recall_score
from sklearn.linear_model import LogisticRegression
from sklearn.ensemble import RandomForestClassifier
from sklearn.svm import SVC
from sklearn.tree import DecisionTreeClassifier

# import eli5
# import shap

get_ipython().run_line_magic("matplotlib", " inline")





data_raw = pd.read_csv("data/Hotel Reservations.csv")
data_raw.head()


rsvn = data_raw.drop(columns=['Booking_ID', 'arrival_year', 'arrival_month', 'arrival_date', 'no_of_special_requests'])


def children(n):
    if n == 0:
        return 0
    else:
        return 1


rsvn['no_of_children'] = rsvn['no_of_children'].apply(children)
rsvn.rename(columns={'no_of_children': 'children'}, inplace=True)


def get_canceled_rsvn_pcg(cancelled, not_cancelled):
    total = cancelled + not_cancelled
    if total == 0 : 
        return 0
    else: 
        return cancelled/total

rsvn['cx_rsvn_pcg'] = rsvn.apply(lambda x: get_canceled_rsvn_pcg(x.no_of_previous_cancellations, x.no_of_previous_bookings_not_canceled), axis=1)
rsvn.drop(columns=['no_of_previous_cancellations', 'no_of_previous_bookings_not_canceled'], inplace=True)


week_nights = rsvn['no_of_week_nights']
weekend_nights = rsvn['no_of_weekend_nights']
nights_ttl = week_nights + weekend_nights
rsvn['nights_ttl'] = nights_ttl
rsvn.drop(columns=['no_of_weekend_nights', 'no_of_week_nights'], inplace=True)


rsvn.head()


# def booking_status(s):
#     if s == "Not_Canceled":
#         return 0
#     else:
#         return 1
    
# rsvn['booking_status']=rsvn['booking_status'].apply(booking_status)


rsvn_sum2 = rsvn.info()
rsvn_sum2


rsvn.head()


names = ['no_of_adults', 'children', 'type_of_meal_plan',
       'required_car_parking_space', 'room_type_reserved', 'lead_time',
       'market_segment_type', 'repeated_guest', 'avg_price_per_room','cx_rsvn_pcg', 'nights_ttl']
interp = ['Number of adults',
          'Number of Children',
          'Type of meal plan booked',
          'Car parking space required',
          'Type of room reserved',
          'Gap b/w booking and arrival date',
          'Market segmentation',
          'Whether booked before no matter cancelled or not',
          'Average room price per day (in euros)',
          'History cancelling rate (in %)',
          'Number of nights stayed']
dtype = ['Int', 'Bin', 'Cate', 'Bin', 'Cate', 'Int', 'Cate', 'Bin', 'Con', 'Con', 'Int']
# range_level = rsvn.apply(pd.Series.nunique).values
rsvn_sum3 =  pd.DataFrame(
     {'col_name' : names,
      'interp' : interp,
      'dtp' : dtype,
      # 'range.or.level' : range_level
})
rsvn_sum3


numerical_columns = rsvn_sum3[(rsvn_sum3['dtp'] == 'Int') | (rsvn_sum3['dtp'] == 'Con')]['col_name'].values
categorical_columns = rsvn_sum3[(rsvn_sum3['dtp'] == 'Cate')]['col_name'].values
binary_columns = rsvn_sum3[(rsvn_sum3['dtp'] == 'Bin')]['col_name'].values

print(f'Numerical: {numerical_columns}\n Categorical: {categorical_columns} \n Binary: {binary_columns}')


# rsvn_viz = sns.PairGrid(rsvn, hue="booking_status")
# rsvn_viz.map_diag(sns.histplot)
# rsvn_viz.map_offdiag(sns.scatterplot)
# rsvn_viz.add_legend()
# rsvn_viz.savefig("results/rsvn_viz.png", dpi=40, bbox_inches="tight")


def adults(s):
    if s == 0:
        return 'no_adult'
    else:
        return 'adults'
rsvn1 = rsvn.copy()
rsvn1['no_of_adults'] = rsvn1['no_of_adults'].agg(adults)
rsvn1= rsvn1[['no_of_adults', 'children', 'booking_status']]
rsvn1.head()


rsvn_ad_ch_cx = rsvn1[(rsvn1['no_of_adults'] == 'adults') & (rsvn1['children'] == 1) & (rsvn1['booking_status'] == 'Canceled')]
ad_ch_cx_count = rsvn_ad_ch_cx.count().unique()[0]

rsvn_ad_cx = rsvn1[(rsvn1['no_of_adults'] == 'adults') & (rsvn1['children'] == 0) & (rsvn1['booking_status'] == 'Canceled')]
ad_cx_count = rsvn_ad_ch_cx.count().unique()[0]

rsvn_cx = rsvn1[(rsvn1['no_of_adults'] == 'no_adult') & (rsvn1['children'] == 1) & (rsvn1['booking_status'] == 'Canceled')]
cx_count = rsvn_cx.count().unique()[0]



rsvn_ad_ch_ncx = rsvn1[(rsvn1['no_of_adults'] == 'adults') & (rsvn1['children'] == 1) & (rsvn1['booking_status'] == 'Not_Canceled')]
ad_ch_ncx_count = rsvn_ad_ch_ncx.count().unique()[0]

rsvn_ad_ncx = rsvn1[(rsvn1['no_of_adults'] == 'adults') & (rsvn1['children'] == 0) & (rsvn1['booking_status'] == 'Not_Canceled')]
ad_ncx_count = rsvn_ad_ch_ncx.count().unique()[0]

rsvn_ncx = rsvn1[(rsvn1['no_of_adults'] == 'no_adult') & (rsvn1['children'] == 1) & (rsvn1['booking_status'] == 'Not_Canceled')]
ncx_count = rsvn_ncx.count().unique()[0]

component = pd.DataFrame(
    data = {
        'Canceled' : [ad_ch_cx_count, ad_cx_count, cx_count],
        'Not_Canceled' : [ad_ch_ncx_count, ad_ncx_count, ncx_count]
    },
    index = ['adult_child', 'adult_only', 'child_only']
)

fig, ax = plt.subplots(1,2)
component['Canceled'].plot(kind = 'pie', ax = ax[0], autopct = '%1.1f%%')
component['Not_Canceled'].plot(kind = 'pie', ax = ax[1], autopct = '%1.1f%%')


fig, ax1 = plt.subplots()
rsvn.loc[rsvn['booking_status'] == 'Canceled','lead_time'].plot(kind = 'hist', ax = ax1, alpha=0.5)
rsvn.loc[rsvn['booking_status'] == 'Not_Canceled','lead_time'].plot(kind = 'hist', ax = ax1, alpha=0.5)


fig, axroom1 = plt.subplots()
room = rsvn[['room_type_reserved', 'booking_status']].groupby(['room_type_reserved', 'booking_status']).size()
room = room.unstack()
room.plot(kind = 'bar', ax =axroom1)

axroom2 = axroom1.twinx()
roomq = rsvn[['room_type_reserved', 'avg_price_per_room','booking_status']].groupby(['room_type_reserved', 'booking_status']).mean()
roomq = roomq.unstack()
roomq.plot(kind = 'line', ax = axroom2)


status = rsvn['booking_status'].unique()
fig, ax = plt.subplots(1,len(status), sharey=True)

rsvn_pr_bk = rsvn.loc[:, ['booking_status', 'avg_price_per_room']]
rsvn_pr_bk.set_index('booking_status', inplace=True)

for i in range(0,len(status)):
    rsvn_pr_bk.loc[status[i]].plot(kind = 'box', ax = ax[i], xlabel = status[i])
    ax[i].spines[['left', 'right', 'top' ,'bottom']].set_visible(False)
    ax[i].tick_params(which="both", left=False, labelbottom=False)
fig.tight_layout()


rsvn[['repeated_guest', 'booking_status']].groupby(['repeated_guest']).count().plot(kind = 'pie', y = 'booking_status', autopct = '%1.1f%%', legend = ['cancelled', 'confirmed'])


# rsvn[['repeated_guest', 'cx_rsvn_pcg', 'booking_status']].groupby(['repeated_guest', 'booking_status']).size()#['repeated_guest']==1
df = rsvn.loc[rsvn['repeated_guest'] == 1,['repeated_guest', 'booking_status', 'cx_rsvn_pcg']]
df[['booking_status','cx_rsvn_pcg']].plot(kind = 'box', by = 'booking_status', title = 'repeated guests')


bb = rsvn[['market_segment_type', 'booking_status']]
bb['market_segment_type']
bb.groupby(['market_segment_type','booking_status'])['booking_status'].count().unstack().plot(kind = 'bar')


bb[['market_segment_type','booking_status']].groupby('market_segment_type').count().plot(kind = 'pie', y = 'booking_status')


X = rsvn.drop(columns=["booking_status"]) 
y = rsvn.booking_status
X_train, X_test, y_train, y_test = train_test_split(X, y, test_size=0.2, random_state=42)


cor = X.corr()
plt.figure(figsize=(6, 4))
sns.set(font_scale=0.8)
sns.heatmap(cor, annot=True, cmap=plt.cm.Blues);


numeric_transformer = StandardScaler()
categorical_transformer = OneHotEncoder(handle_unknown="ignore", sparse=False)

ct = make_column_transformer(
    (numeric_transformer, numerical_columns),
    (categorical_transformer, categorical_columns),
    ("passthrough", binary_columns)
)

transformed_df = pd.DataFrame(ct.fit_transform(X_train))
new_labels = ['no_of_adults', 'lead_time', 'avg_price_per_room', 'cx_rsvn_pcg', 'nights_ttl', 'meal_plan_1', 'meal_plan_2',
              'meal_plan_3', 'meal_not_selected', 'room type 1', 'room type 2' , 'room type 3', 'room type 4',  'room type 5',
              'room type 6', 'room type 7', 'aviation', 'complementary', 'corporate', 'offline', 'online',
              'children', 'required_car_parking_space', 'repeated_guest']
transformed_df.columns = new_labels


transformed_df


y_train = y_train == "Canceled"
y_test = y_test == "Canceled"

results = {}


def scores(model, X_test, y_test):
    scores = []
    scores.append(np.round(accuracy_score(y_test, model.predict(X_test)),4))
    scores.append(np.round(recall_score(y_test, model.predict(X_test)),4))
    scores.append(np.round(f1_score(y_test, model.predict(X_test)),4))
    
    return pd.Series(data=scores, index=["accuracy", "recall", "f1"])


pipe_lr = make_pipeline(ct, LogisticRegression(solver='lbfgs', max_iter=1000))
pipe_lr.fit(X_train, y_train)
results["logistic regression"] = scores(pipe_lr, X_test, y_test)

pipe_rf = make_pipeline(ct, RandomForestClassifier())
pipe_rf.fit(X_train, y_train)
results["random forest"] = scores(pipe_rf, X_test, y_test)

pipe_dt = make_pipeline(ct, DecisionTreeClassifier(max_depth=5))
pipe_dt.fit(X_train, y_train)
results["decision tree"] = scores(pipe_dt, X_test, y_test)

pipe_svc = make_pipeline(ct, SVC())
pipe_svc.fit(X_train, y_train)
results["SVC"] = scores(pipe_svc, X_test, y_test)


pd.DataFrame(results).T


eli5.explain_weights(
    pipe_lr.named_steps["logisticregression"], feature_names=new_labels, top=30
)


eli5.explain_weights(
    pipe_rf.named_steps["randomforestclassifier"], feature_names=new_labels, top=30
)


eli5.explain_weights(
    pipe_dt.named_steps["decisiontreeclassifier"], feature_names=new_labels, top=30
)


# dt_explainer = shap.TreeExplainer(pipe_dt.named_steps["decisiontreeclassifier"])


# X_test_enc = pd.DataFrame(
#     data=ct.transform(X_test),
#     columns=feature_names,
#     index=X_test.index
# )
# test_dt_shap_values = dt_explainer.shap_values(X_test_enc)


# shap.force_plot(
#     dt_explainer.expected_value[1],
#     test_dt_shap_values[1][300, :],
#     X_test_enc.iloc[300, :],
#     matplotlib=True,
# )



