import pandas as pd
import numpy as np
import seaborn as sns

import matplotlib.pyplot as plt

from sklearn.model_selection import cross_val_score, cross_validate, train_test_split
from sklearn.pipeline import Pipeline, make_pipeline
from sklearn.preprocessing import OneHotEncoder, StandardScaler, OrdinalEncoder

from sklearn.compose import (
    ColumnTransformer,
    TransformedTargetRegressor,
    make_column_transformer,
)

from sklearn.linear_model import LogisticRegression
from sklearn.model_selection import RandomizedSearchCV
from sklearn.ensemble import RandomForestClassifier
from sklearn.svm import SVC
from sklearn.dummy import DummyClassifier
from sklearn.tree import DecisionTreeClassifier
from sklearn.neighbors import KNeighborsClassifier

from sklearn.feature_selection import RFECV
from sklearn.metrics import accuracy_score, f1_score, precision_score, recall_score
from sklearn.metrics import average_precision_score
from sklearn.metrics import PrecisionRecallDisplay

get_ipython().run_line_magic("matplotlib", " inline")


import sklearn


data_raw = pd.read_csv("data/Hotel Reservations.csv")
data_raw.head()


def children(n):
    if n == 0:
        return 0
    else:
        return 1


data_raw['no_of_children'] = data_raw['no_of_children'].apply(children)
data_raw.rename(columns={'no_of_children': 'children'}, inplace=True)


def get_canceled_rsvn_pcg(cancelled, not_cancelled):
    total = cancelled + not_cancelled
    if total == 0 : 
        return 0
    else: 
        return cancelled/total

data_raw['cx_rsvn_pcg'] = data_raw.apply(lambda x: get_canceled_rsvn_pcg(x.no_of_previous_cancellations, x.no_of_previous_bookings_not_canceled), axis=1)


week_nights = data_raw['no_of_week_nights']
weekend_nights = data_raw['no_of_weekend_nights']
nights_ttl = week_nights + weekend_nights
data_raw['nights_ttl'] = nights_ttl


def booking_status(s):
    if s == "Not_Canceled":
        return 0
    else:
        return 1
    
data_raw['booking_status'] = data_raw['booking_status'].apply(booking_status)


rsvn = data_raw.drop(columns=['Booking_ID', 'no_of_weekend_nights', 'no_of_week_nights', 'arrival_year', 'arrival_month', 'arrival_date', 'no_of_previous_cancellations', 'no_of_previous_bookings_not_canceled', 'no_of_special_requests'])
rsvn.head()


# rsvn.to_csv("results/rsvn.csv")


rsvn_sum2 = rsvn.info()
rsvn_sum2


names = rsvn.columns.values
interp = ['Number of adults',
          'Number of Children',
          'Type of meal plan booked',
          'Car parking space required',
          'Type of room reserved',
          'Gap b/w booking and arrival date',
          'Market segmentation',
          'Whether booked before no matter cancelled or not',
          'Average room price per day (in euros)',
          'Booking canceled or not',
          'History cancelling rate (in %)',
          'Number of nights stayed']
dtype = ['Int', 'Bin', 'Cate', 'Bin', 'Cate', 'Int', 'Cate', 'Bin', 'Con', 'Bin', 'Con', 'Int']
range_level = rsvn.apply(pd.Series.nunique).values
rsvn_sum3 =  pd.DataFrame(
     {'col_name' : names,
      'interp' : interp,
      'dtp' : dtype,
      'range.or.level' : range_level
})
rsvn_sum3


# numerical_columns = rsvn_sum3[(rsvn_sum3['dtp'] == 'Int') | (rsvn_sum3['dtp'] == 'Con')]['col_name'].values
# categorical_columns = rsvn_sum3[(rsvn_sum3['dtp'] == 'Cate')]['col_name'].values
# binary_columns = rsvn_sum3[(rsvn_sum3['dtp'] == 'Bin')]['col_name'].values
# print(f'Numerical: {numerical_columns}\n Categorical: {categorical_columns} \n Binary: {binary_columns}')

numerical_columns = ['no_of_adults','lead_time', 'avg_price_per_room','cx_rsvn_pcg','nights_ttl']
categorical_columns = ['type_of_meal_plan','room_type_reserved','market_segment_type'] 
binary_columns = ['children','required_car_parking_space','repeated_guest']


# rsvn_viz = sns.PairGrid(rsvn, hue="booking_status")
# rsvn_viz.map_diag(sns.histplot)
# rsvn_viz.map_offdiag(sns.scatterplot)
# rsvn_viz.add_legend()
# rsvn_viz.savefig("results/rsvn_viz.png", dpi=40, bbox_inches="tight")


X = rsvn.drop(columns=["booking_status"]) 
y = rsvn.booking_status


cor = X.corr()
plt.figure(figsize=(25, 15))
sns.set(font_scale=0.8)
sns.heatmap(cor, annot=True, cmap=plt.cm.Blues)


ct = make_column_transformer(    
    (StandardScaler(), numerical_columns),
    ("passthrough", binary_columns ),    
    (OneHotEncoder(), categorical_columns),  
)

transformed = ct.fit_transform(X)
df = pd.DataFrame(transformed)
df


X_train, X_test, y_train, y_test = train_test_split(X, y, test_size=0.2, random_state=42)


# lr_model = LogisticRegression()
# lr_model.fit(X_train, y_train)

# mse_train = metrics.mean_squared_error(y_train, lr_model.predict(X_train))
# mse_test = metrics.mean_squared_error(y_test, lr_model.predict(X_test))

# print("MSE on training data", mse_train)
# print("MSE on testing data", mse_test)
