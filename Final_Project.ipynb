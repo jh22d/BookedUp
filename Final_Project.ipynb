{
 "cells": [
  {
   "cell_type": "code",
   "execution_count": 4,
   "id": "e68c7c9b-5cd0-4b2c-8f16-648a1cb206ff",
   "metadata": {},
   "outputs": [],
   "source": [
    "import pandas as pd\n",
    "import numpy as np\n",
    "import seaborn as sns\n",
    "\n",
    "import matplotlib.pyplot as plt\n",
    "\n",
    "from sklearn.model_selection import cross_val_score, cross_validate, train_test_split\n",
    "from sklearn.pipeline import Pipeline, make_pipeline\n",
    "from sklearn.preprocessing import OneHotEncoder, StandardScaler, OrdinalEncoder\n",
    "\n",
    "from sklearn.compose import (\n",
    "    ColumnTransformer,\n",
    "    TransformedTargetRegressor,\n",
    "    make_column_transformer,\n",
    ")\n",
    "\n",
    "from sklearn.metrics import accuracy_score, f1_score, precision_score, recall_score\n",
    "from sklearn.linear_model import LogisticRegression\n",
    "from sklearn.ensemble import RandomForestClassifier\n",
    "from sklearn.svm import SVC\n",
    "from sklearn.tree import DecisionTreeClassifier\n",
    "\n",
    "# import eli5\n",
    "# import shap\n",
    "\n",
    "%matplotlib inline"
   ]
  },
  {
   "cell_type": "code",
   "execution_count": null,
   "id": "970ec8b6-d362-42df-b2d4-b32f03ec0f15",
   "metadata": {},
   "outputs": [],
   "source": []
  },
  {
   "cell_type": "code",
   "execution_count": 5,
   "id": "7ea0f596-ca41-4ffb-96b2-2a9b08a31a6c",
   "metadata": {},
   "outputs": [
    {
     "data": {
      "text/html": [
       "<div>\n",
       "<style scoped>\n",
       "    .dataframe tbody tr th:only-of-type {\n",
       "        vertical-align: middle;\n",
       "    }\n",
       "\n",
       "    .dataframe tbody tr th {\n",
       "        vertical-align: top;\n",
       "    }\n",
       "\n",
       "    .dataframe thead th {\n",
       "        text-align: right;\n",
       "    }\n",
       "</style>\n",
       "<table border=\"1\" class=\"dataframe\">\n",
       "  <thead>\n",
       "    <tr style=\"text-align: right;\">\n",
       "      <th></th>\n",
       "      <th>Booking_ID</th>\n",
       "      <th>no_of_adults</th>\n",
       "      <th>no_of_children</th>\n",
       "      <th>no_of_weekend_nights</th>\n",
       "      <th>no_of_week_nights</th>\n",
       "      <th>type_of_meal_plan</th>\n",
       "      <th>required_car_parking_space</th>\n",
       "      <th>room_type_reserved</th>\n",
       "      <th>lead_time</th>\n",
       "      <th>arrival_year</th>\n",
       "      <th>arrival_month</th>\n",
       "      <th>arrival_date</th>\n",
       "      <th>market_segment_type</th>\n",
       "      <th>repeated_guest</th>\n",
       "      <th>no_of_previous_cancellations</th>\n",
       "      <th>no_of_previous_bookings_not_canceled</th>\n",
       "      <th>avg_price_per_room</th>\n",
       "      <th>no_of_special_requests</th>\n",
       "      <th>booking_status</th>\n",
       "    </tr>\n",
       "  </thead>\n",
       "  <tbody>\n",
       "    <tr>\n",
       "      <th>0</th>\n",
       "      <td>INN00001</td>\n",
       "      <td>2</td>\n",
       "      <td>0</td>\n",
       "      <td>1</td>\n",
       "      <td>2</td>\n",
       "      <td>Meal Plan 1</td>\n",
       "      <td>0</td>\n",
       "      <td>Room_Type 1</td>\n",
       "      <td>224</td>\n",
       "      <td>2017</td>\n",
       "      <td>10</td>\n",
       "      <td>2</td>\n",
       "      <td>Offline</td>\n",
       "      <td>0</td>\n",
       "      <td>0</td>\n",
       "      <td>0</td>\n",
       "      <td>65.00</td>\n",
       "      <td>0</td>\n",
       "      <td>Not_Canceled</td>\n",
       "    </tr>\n",
       "    <tr>\n",
       "      <th>1</th>\n",
       "      <td>INN00002</td>\n",
       "      <td>2</td>\n",
       "      <td>0</td>\n",
       "      <td>2</td>\n",
       "      <td>3</td>\n",
       "      <td>Not Selected</td>\n",
       "      <td>0</td>\n",
       "      <td>Room_Type 1</td>\n",
       "      <td>5</td>\n",
       "      <td>2018</td>\n",
       "      <td>11</td>\n",
       "      <td>6</td>\n",
       "      <td>Online</td>\n",
       "      <td>0</td>\n",
       "      <td>0</td>\n",
       "      <td>0</td>\n",
       "      <td>106.68</td>\n",
       "      <td>1</td>\n",
       "      <td>Not_Canceled</td>\n",
       "    </tr>\n",
       "    <tr>\n",
       "      <th>2</th>\n",
       "      <td>INN00003</td>\n",
       "      <td>1</td>\n",
       "      <td>0</td>\n",
       "      <td>2</td>\n",
       "      <td>1</td>\n",
       "      <td>Meal Plan 1</td>\n",
       "      <td>0</td>\n",
       "      <td>Room_Type 1</td>\n",
       "      <td>1</td>\n",
       "      <td>2018</td>\n",
       "      <td>2</td>\n",
       "      <td>28</td>\n",
       "      <td>Online</td>\n",
       "      <td>0</td>\n",
       "      <td>0</td>\n",
       "      <td>0</td>\n",
       "      <td>60.00</td>\n",
       "      <td>0</td>\n",
       "      <td>Canceled</td>\n",
       "    </tr>\n",
       "    <tr>\n",
       "      <th>3</th>\n",
       "      <td>INN00004</td>\n",
       "      <td>2</td>\n",
       "      <td>0</td>\n",
       "      <td>0</td>\n",
       "      <td>2</td>\n",
       "      <td>Meal Plan 1</td>\n",
       "      <td>0</td>\n",
       "      <td>Room_Type 1</td>\n",
       "      <td>211</td>\n",
       "      <td>2018</td>\n",
       "      <td>5</td>\n",
       "      <td>20</td>\n",
       "      <td>Online</td>\n",
       "      <td>0</td>\n",
       "      <td>0</td>\n",
       "      <td>0</td>\n",
       "      <td>100.00</td>\n",
       "      <td>0</td>\n",
       "      <td>Canceled</td>\n",
       "    </tr>\n",
       "    <tr>\n",
       "      <th>4</th>\n",
       "      <td>INN00005</td>\n",
       "      <td>2</td>\n",
       "      <td>0</td>\n",
       "      <td>1</td>\n",
       "      <td>1</td>\n",
       "      <td>Not Selected</td>\n",
       "      <td>0</td>\n",
       "      <td>Room_Type 1</td>\n",
       "      <td>48</td>\n",
       "      <td>2018</td>\n",
       "      <td>4</td>\n",
       "      <td>11</td>\n",
       "      <td>Online</td>\n",
       "      <td>0</td>\n",
       "      <td>0</td>\n",
       "      <td>0</td>\n",
       "      <td>94.50</td>\n",
       "      <td>0</td>\n",
       "      <td>Canceled</td>\n",
       "    </tr>\n",
       "  </tbody>\n",
       "</table>\n",
       "</div>"
      ],
      "text/plain": [
       "  Booking_ID  no_of_adults  no_of_children  no_of_weekend_nights  \\\n",
       "0   INN00001             2               0                     1   \n",
       "1   INN00002             2               0                     2   \n",
       "2   INN00003             1               0                     2   \n",
       "3   INN00004             2               0                     0   \n",
       "4   INN00005             2               0                     1   \n",
       "\n",
       "   no_of_week_nights type_of_meal_plan  required_car_parking_space  \\\n",
       "0                  2       Meal Plan 1                           0   \n",
       "1                  3      Not Selected                           0   \n",
       "2                  1       Meal Plan 1                           0   \n",
       "3                  2       Meal Plan 1                           0   \n",
       "4                  1      Not Selected                           0   \n",
       "\n",
       "  room_type_reserved  lead_time  arrival_year  arrival_month  arrival_date  \\\n",
       "0        Room_Type 1        224          2017             10             2   \n",
       "1        Room_Type 1          5          2018             11             6   \n",
       "2        Room_Type 1          1          2018              2            28   \n",
       "3        Room_Type 1        211          2018              5            20   \n",
       "4        Room_Type 1         48          2018              4            11   \n",
       "\n",
       "  market_segment_type  repeated_guest  no_of_previous_cancellations  \\\n",
       "0             Offline               0                             0   \n",
       "1              Online               0                             0   \n",
       "2              Online               0                             0   \n",
       "3              Online               0                             0   \n",
       "4              Online               0                             0   \n",
       "\n",
       "   no_of_previous_bookings_not_canceled  avg_price_per_room  \\\n",
       "0                                     0               65.00   \n",
       "1                                     0              106.68   \n",
       "2                                     0               60.00   \n",
       "3                                     0              100.00   \n",
       "4                                     0               94.50   \n",
       "\n",
       "   no_of_special_requests booking_status  \n",
       "0                       0   Not_Canceled  \n",
       "1                       1   Not_Canceled  \n",
       "2                       0       Canceled  \n",
       "3                       0       Canceled  \n",
       "4                       0       Canceled  "
      ]
     },
     "execution_count": 5,
     "metadata": {},
     "output_type": "execute_result"
    }
   ],
   "source": [
    "data_raw = pd.read_csv(\"data/Hotel Reservations.csv\")\n",
    "data_raw.head()"
   ]
  },
  {
   "cell_type": "markdown",
   "id": "15680111-b296-4e32-bb34-627e5116ff3b",
   "metadata": {},
   "source": [
    "# 1. Data Cleaning"
   ]
  },
  {
   "cell_type": "markdown",
   "id": "476ee7b6-fe43-4ac4-a0ce-24db3cb6e918",
   "metadata": {
    "jp-MarkdownHeadingCollapsed": true,
    "tags": []
   },
   "source": [
    "**Dropping Columns to Omit**"
   ]
  },
  {
   "cell_type": "code",
   "execution_count": 6,
   "id": "0522378e-a351-4459-ad5a-e097bcace41e",
   "metadata": {},
   "outputs": [],
   "source": [
    "rsvn = data_raw.drop(columns=['Booking_ID', 'arrival_year', 'arrival_month', 'arrival_date', 'no_of_special_requests'])"
   ]
  },
  {
   "cell_type": "markdown",
   "id": "1202cac3-70d9-4072-8fb2-85ade28b7c97",
   "metadata": {},
   "source": [
    "**Binary Columns**\n",
    "\n",
    "1. Children Column\n",
    "Converting numeric column \"no_children\" to binary column \"children\", where 1 means there are children, and 0 meaning no children. "
   ]
  },
  {
   "cell_type": "code",
   "execution_count": 7,
   "id": "eed4b3e0-e412-43d6-9657-5c01df78bb7e",
   "metadata": {},
   "outputs": [],
   "source": [
    "def children(n):\n",
    "    if n == 0:\n",
    "        return 0\n",
    "    else:\n",
    "        return 1"
   ]
  },
  {
   "cell_type": "code",
   "execution_count": 8,
   "id": "0fdb8034-ce3d-4206-98fa-532bd01b623e",
   "metadata": {},
   "outputs": [],
   "source": [
    "rsvn['no_of_children'] = rsvn['no_of_children'].apply(children)\n",
    "rsvn.rename(columns={'no_of_children': 'children'}, inplace=True)"
   ]
  },
  {
   "cell_type": "markdown",
   "id": "e120c94a-1fd1-4a11-8fbd-fbd20d5e8fbc",
   "metadata": {},
   "source": [
    "**Previous Cancellations Calculation**\n",
    "\n",
    "Adding new column \"cx_rsvn_pcg\" for % canceled reservations calculated as follows: no_of_previous_cancellations/(no_of_previous_cancellations+no_of_previous_bookings_not_canceled)"
   ]
  },
  {
   "cell_type": "code",
   "execution_count": 9,
   "id": "47d13aa6-5d46-4732-b931-7f067f7e5222",
   "metadata": {},
   "outputs": [],
   "source": [
    "def get_canceled_rsvn_pcg(cancelled, not_cancelled):\n",
    "    total = cancelled + not_cancelled\n",
    "    if total == 0 : \n",
    "        return 0\n",
    "    else: \n",
    "        return cancelled/total\n",
    "\n",
    "rsvn['cx_rsvn_pcg'] = rsvn.apply(lambda x: get_canceled_rsvn_pcg(x.no_of_previous_cancellations, x.no_of_previous_bookings_not_canceled), axis=1)\n",
    "rsvn.drop(columns=['no_of_previous_cancellations', 'no_of_previous_bookings_not_canceled'], inplace=True)"
   ]
  },
  {
   "cell_type": "markdown",
   "id": "79db2a42-79fd-4e7c-ad6b-d484dcc48773",
   "metadata": {},
   "source": [
    "**Total Number of Nights Column**\n",
    "\n",
    "New column \"total number of nights\" as sum of columns \"no_of_weekend_nights\" and \"no_of_week_nights\""
   ]
  },
  {
   "cell_type": "code",
   "execution_count": 10,
   "id": "95ab2667-9b4a-436a-acfd-26eb06a1f2f2",
   "metadata": {},
   "outputs": [],
   "source": [
    "week_nights = rsvn['no_of_week_nights']\n",
    "weekend_nights = rsvn['no_of_weekend_nights']\n",
    "nights_ttl = week_nights + weekend_nights\n",
    "rsvn['nights_ttl'] = nights_ttl\n",
    "rsvn.drop(columns=['no_of_weekend_nights', 'no_of_week_nights'], inplace=True)"
   ]
  },
  {
   "cell_type": "code",
   "execution_count": 11,
   "id": "7175dc72-40b9-4419-aa09-1282a7096d33",
   "metadata": {},
   "outputs": [
    {
     "data": {
      "text/html": [
       "<div>\n",
       "<style scoped>\n",
       "    .dataframe tbody tr th:only-of-type {\n",
       "        vertical-align: middle;\n",
       "    }\n",
       "\n",
       "    .dataframe tbody tr th {\n",
       "        vertical-align: top;\n",
       "    }\n",
       "\n",
       "    .dataframe thead th {\n",
       "        text-align: right;\n",
       "    }\n",
       "</style>\n",
       "<table border=\"1\" class=\"dataframe\">\n",
       "  <thead>\n",
       "    <tr style=\"text-align: right;\">\n",
       "      <th></th>\n",
       "      <th>no_of_adults</th>\n",
       "      <th>children</th>\n",
       "      <th>type_of_meal_plan</th>\n",
       "      <th>required_car_parking_space</th>\n",
       "      <th>room_type_reserved</th>\n",
       "      <th>lead_time</th>\n",
       "      <th>market_segment_type</th>\n",
       "      <th>repeated_guest</th>\n",
       "      <th>avg_price_per_room</th>\n",
       "      <th>booking_status</th>\n",
       "      <th>cx_rsvn_pcg</th>\n",
       "      <th>nights_ttl</th>\n",
       "    </tr>\n",
       "  </thead>\n",
       "  <tbody>\n",
       "    <tr>\n",
       "      <th>0</th>\n",
       "      <td>2</td>\n",
       "      <td>0</td>\n",
       "      <td>Meal Plan 1</td>\n",
       "      <td>0</td>\n",
       "      <td>Room_Type 1</td>\n",
       "      <td>224</td>\n",
       "      <td>Offline</td>\n",
       "      <td>0</td>\n",
       "      <td>65.00</td>\n",
       "      <td>Not_Canceled</td>\n",
       "      <td>0.0</td>\n",
       "      <td>3</td>\n",
       "    </tr>\n",
       "    <tr>\n",
       "      <th>1</th>\n",
       "      <td>2</td>\n",
       "      <td>0</td>\n",
       "      <td>Not Selected</td>\n",
       "      <td>0</td>\n",
       "      <td>Room_Type 1</td>\n",
       "      <td>5</td>\n",
       "      <td>Online</td>\n",
       "      <td>0</td>\n",
       "      <td>106.68</td>\n",
       "      <td>Not_Canceled</td>\n",
       "      <td>0.0</td>\n",
       "      <td>5</td>\n",
       "    </tr>\n",
       "    <tr>\n",
       "      <th>2</th>\n",
       "      <td>1</td>\n",
       "      <td>0</td>\n",
       "      <td>Meal Plan 1</td>\n",
       "      <td>0</td>\n",
       "      <td>Room_Type 1</td>\n",
       "      <td>1</td>\n",
       "      <td>Online</td>\n",
       "      <td>0</td>\n",
       "      <td>60.00</td>\n",
       "      <td>Canceled</td>\n",
       "      <td>0.0</td>\n",
       "      <td>3</td>\n",
       "    </tr>\n",
       "    <tr>\n",
       "      <th>3</th>\n",
       "      <td>2</td>\n",
       "      <td>0</td>\n",
       "      <td>Meal Plan 1</td>\n",
       "      <td>0</td>\n",
       "      <td>Room_Type 1</td>\n",
       "      <td>211</td>\n",
       "      <td>Online</td>\n",
       "      <td>0</td>\n",
       "      <td>100.00</td>\n",
       "      <td>Canceled</td>\n",
       "      <td>0.0</td>\n",
       "      <td>2</td>\n",
       "    </tr>\n",
       "    <tr>\n",
       "      <th>4</th>\n",
       "      <td>2</td>\n",
       "      <td>0</td>\n",
       "      <td>Not Selected</td>\n",
       "      <td>0</td>\n",
       "      <td>Room_Type 1</td>\n",
       "      <td>48</td>\n",
       "      <td>Online</td>\n",
       "      <td>0</td>\n",
       "      <td>94.50</td>\n",
       "      <td>Canceled</td>\n",
       "      <td>0.0</td>\n",
       "      <td>2</td>\n",
       "    </tr>\n",
       "  </tbody>\n",
       "</table>\n",
       "</div>"
      ],
      "text/plain": [
       "   no_of_adults  children type_of_meal_plan  required_car_parking_space  \\\n",
       "0             2         0       Meal Plan 1                           0   \n",
       "1             2         0      Not Selected                           0   \n",
       "2             1         0       Meal Plan 1                           0   \n",
       "3             2         0       Meal Plan 1                           0   \n",
       "4             2         0      Not Selected                           0   \n",
       "\n",
       "  room_type_reserved  lead_time market_segment_type  repeated_guest  \\\n",
       "0        Room_Type 1        224             Offline               0   \n",
       "1        Room_Type 1          5              Online               0   \n",
       "2        Room_Type 1          1              Online               0   \n",
       "3        Room_Type 1        211              Online               0   \n",
       "4        Room_Type 1         48              Online               0   \n",
       "\n",
       "   avg_price_per_room booking_status  cx_rsvn_pcg  nights_ttl  \n",
       "0               65.00   Not_Canceled          0.0           3  \n",
       "1              106.68   Not_Canceled          0.0           5  \n",
       "2               60.00       Canceled          0.0           3  \n",
       "3              100.00       Canceled          0.0           2  \n",
       "4               94.50       Canceled          0.0           2  "
      ]
     },
     "execution_count": 11,
     "metadata": {},
     "output_type": "execute_result"
    }
   ],
   "source": [
    "rsvn.head()"
   ]
  },
  {
   "cell_type": "markdown",
   "id": "3987d773-ce5e-41cd-8f96-a2ee7a15d267",
   "metadata": {},
   "source": [
    "### 1.4 Target Column: Booking Status Column\n",
    "Turn booking_status column to a binary column (Not canceled = 0, Canceled = 1)"
   ]
  },
  {
   "cell_type": "code",
   "execution_count": 12,
   "id": "9f939f13-de5d-4216-8255-2266f60f5aeb",
   "metadata": {},
   "outputs": [],
   "source": [
    "# def booking_status(s):\n",
    "#     if s == \"Not_Canceled\":\n",
    "#         return 0\n",
    "#     else:\n",
    "#         return 1\n",
    "    \n",
    "# rsvn['booking_status']=rsvn['booking_status'].apply(booking_status)"
   ]
  },
  {
   "cell_type": "markdown",
   "id": "dd0d3341-a20b-4a0d-90dd-869d45ed62f3",
   "metadata": {},
   "source": [
    "rsvn_sum1 = rsvn.describe()[[True,True,True,True,False, False,False, True]]\n",
    "rsvn_sum1"
   ]
  },
  {
   "cell_type": "code",
   "execution_count": 13,
   "id": "009dbc43-7ede-438e-85c1-460480e4378e",
   "metadata": {},
   "outputs": [
    {
     "name": "stdout",
     "output_type": "stream",
     "text": [
      "<class 'pandas.core.frame.DataFrame'>\n",
      "RangeIndex: 36275 entries, 0 to 36274\n",
      "Data columns (total 12 columns):\n",
      " #   Column                      Non-Null Count  Dtype  \n",
      "---  ------                      --------------  -----  \n",
      " 0   no_of_adults                36275 non-null  int64  \n",
      " 1   children                    36275 non-null  int64  \n",
      " 2   type_of_meal_plan           36275 non-null  object \n",
      " 3   required_car_parking_space  36275 non-null  int64  \n",
      " 4   room_type_reserved          36275 non-null  object \n",
      " 5   lead_time                   36275 non-null  int64  \n",
      " 6   market_segment_type         36275 non-null  object \n",
      " 7   repeated_guest              36275 non-null  int64  \n",
      " 8   avg_price_per_room          36275 non-null  float64\n",
      " 9   booking_status              36275 non-null  object \n",
      " 10  cx_rsvn_pcg                 36275 non-null  float64\n",
      " 11  nights_ttl                  36275 non-null  int64  \n",
      "dtypes: float64(2), int64(6), object(4)\n",
      "memory usage: 3.3+ MB\n"
     ]
    }
   ],
   "source": [
    "rsvn_sum2 = rsvn.info()\n",
    "rsvn_sum2"
   ]
  },
  {
   "cell_type": "code",
   "execution_count": 14,
   "id": "c815b0ad-a65f-4b38-bf35-b3fb7d668438",
   "metadata": {},
   "outputs": [
    {
     "data": {
      "text/html": [
       "<div>\n",
       "<style scoped>\n",
       "    .dataframe tbody tr th:only-of-type {\n",
       "        vertical-align: middle;\n",
       "    }\n",
       "\n",
       "    .dataframe tbody tr th {\n",
       "        vertical-align: top;\n",
       "    }\n",
       "\n",
       "    .dataframe thead th {\n",
       "        text-align: right;\n",
       "    }\n",
       "</style>\n",
       "<table border=\"1\" class=\"dataframe\">\n",
       "  <thead>\n",
       "    <tr style=\"text-align: right;\">\n",
       "      <th></th>\n",
       "      <th>no_of_adults</th>\n",
       "      <th>children</th>\n",
       "      <th>type_of_meal_plan</th>\n",
       "      <th>required_car_parking_space</th>\n",
       "      <th>room_type_reserved</th>\n",
       "      <th>lead_time</th>\n",
       "      <th>market_segment_type</th>\n",
       "      <th>repeated_guest</th>\n",
       "      <th>avg_price_per_room</th>\n",
       "      <th>booking_status</th>\n",
       "      <th>cx_rsvn_pcg</th>\n",
       "      <th>nights_ttl</th>\n",
       "    </tr>\n",
       "  </thead>\n",
       "  <tbody>\n",
       "    <tr>\n",
       "      <th>0</th>\n",
       "      <td>2</td>\n",
       "      <td>0</td>\n",
       "      <td>Meal Plan 1</td>\n",
       "      <td>0</td>\n",
       "      <td>Room_Type 1</td>\n",
       "      <td>224</td>\n",
       "      <td>Offline</td>\n",
       "      <td>0</td>\n",
       "      <td>65.00</td>\n",
       "      <td>Not_Canceled</td>\n",
       "      <td>0.0</td>\n",
       "      <td>3</td>\n",
       "    </tr>\n",
       "    <tr>\n",
       "      <th>1</th>\n",
       "      <td>2</td>\n",
       "      <td>0</td>\n",
       "      <td>Not Selected</td>\n",
       "      <td>0</td>\n",
       "      <td>Room_Type 1</td>\n",
       "      <td>5</td>\n",
       "      <td>Online</td>\n",
       "      <td>0</td>\n",
       "      <td>106.68</td>\n",
       "      <td>Not_Canceled</td>\n",
       "      <td>0.0</td>\n",
       "      <td>5</td>\n",
       "    </tr>\n",
       "    <tr>\n",
       "      <th>2</th>\n",
       "      <td>1</td>\n",
       "      <td>0</td>\n",
       "      <td>Meal Plan 1</td>\n",
       "      <td>0</td>\n",
       "      <td>Room_Type 1</td>\n",
       "      <td>1</td>\n",
       "      <td>Online</td>\n",
       "      <td>0</td>\n",
       "      <td>60.00</td>\n",
       "      <td>Canceled</td>\n",
       "      <td>0.0</td>\n",
       "      <td>3</td>\n",
       "    </tr>\n",
       "    <tr>\n",
       "      <th>3</th>\n",
       "      <td>2</td>\n",
       "      <td>0</td>\n",
       "      <td>Meal Plan 1</td>\n",
       "      <td>0</td>\n",
       "      <td>Room_Type 1</td>\n",
       "      <td>211</td>\n",
       "      <td>Online</td>\n",
       "      <td>0</td>\n",
       "      <td>100.00</td>\n",
       "      <td>Canceled</td>\n",
       "      <td>0.0</td>\n",
       "      <td>2</td>\n",
       "    </tr>\n",
       "    <tr>\n",
       "      <th>4</th>\n",
       "      <td>2</td>\n",
       "      <td>0</td>\n",
       "      <td>Not Selected</td>\n",
       "      <td>0</td>\n",
       "      <td>Room_Type 1</td>\n",
       "      <td>48</td>\n",
       "      <td>Online</td>\n",
       "      <td>0</td>\n",
       "      <td>94.50</td>\n",
       "      <td>Canceled</td>\n",
       "      <td>0.0</td>\n",
       "      <td>2</td>\n",
       "    </tr>\n",
       "  </tbody>\n",
       "</table>\n",
       "</div>"
      ],
      "text/plain": [
       "   no_of_adults  children type_of_meal_plan  required_car_parking_space  \\\n",
       "0             2         0       Meal Plan 1                           0   \n",
       "1             2         0      Not Selected                           0   \n",
       "2             1         0       Meal Plan 1                           0   \n",
       "3             2         0       Meal Plan 1                           0   \n",
       "4             2         0      Not Selected                           0   \n",
       "\n",
       "  room_type_reserved  lead_time market_segment_type  repeated_guest  \\\n",
       "0        Room_Type 1        224             Offline               0   \n",
       "1        Room_Type 1          5              Online               0   \n",
       "2        Room_Type 1          1              Online               0   \n",
       "3        Room_Type 1        211              Online               0   \n",
       "4        Room_Type 1         48              Online               0   \n",
       "\n",
       "   avg_price_per_room booking_status  cx_rsvn_pcg  nights_ttl  \n",
       "0               65.00   Not_Canceled          0.0           3  \n",
       "1              106.68   Not_Canceled          0.0           5  \n",
       "2               60.00       Canceled          0.0           3  \n",
       "3              100.00       Canceled          0.0           2  \n",
       "4               94.50       Canceled          0.0           2  "
      ]
     },
     "execution_count": 14,
     "metadata": {},
     "output_type": "execute_result"
    }
   ],
   "source": [
    "rsvn.head()"
   ]
  },
  {
   "cell_type": "code",
   "execution_count": 15,
   "id": "e192a05b-d863-40b4-bcbd-36f2626e5b72",
   "metadata": {},
   "outputs": [
    {
     "data": {
      "text/html": [
       "<div>\n",
       "<style scoped>\n",
       "    .dataframe tbody tr th:only-of-type {\n",
       "        vertical-align: middle;\n",
       "    }\n",
       "\n",
       "    .dataframe tbody tr th {\n",
       "        vertical-align: top;\n",
       "    }\n",
       "\n",
       "    .dataframe thead th {\n",
       "        text-align: right;\n",
       "    }\n",
       "</style>\n",
       "<table border=\"1\" class=\"dataframe\">\n",
       "  <thead>\n",
       "    <tr style=\"text-align: right;\">\n",
       "      <th></th>\n",
       "      <th>col_name</th>\n",
       "      <th>interp</th>\n",
       "      <th>dtp</th>\n",
       "    </tr>\n",
       "  </thead>\n",
       "  <tbody>\n",
       "    <tr>\n",
       "      <th>0</th>\n",
       "      <td>no_of_adults</td>\n",
       "      <td>Number of adults</td>\n",
       "      <td>Int</td>\n",
       "    </tr>\n",
       "    <tr>\n",
       "      <th>1</th>\n",
       "      <td>children</td>\n",
       "      <td>Number of Children</td>\n",
       "      <td>Bin</td>\n",
       "    </tr>\n",
       "    <tr>\n",
       "      <th>2</th>\n",
       "      <td>type_of_meal_plan</td>\n",
       "      <td>Type of meal plan booked</td>\n",
       "      <td>Cate</td>\n",
       "    </tr>\n",
       "    <tr>\n",
       "      <th>3</th>\n",
       "      <td>required_car_parking_space</td>\n",
       "      <td>Car parking space required</td>\n",
       "      <td>Bin</td>\n",
       "    </tr>\n",
       "    <tr>\n",
       "      <th>4</th>\n",
       "      <td>room_type_reserved</td>\n",
       "      <td>Type of room reserved</td>\n",
       "      <td>Cate</td>\n",
       "    </tr>\n",
       "    <tr>\n",
       "      <th>5</th>\n",
       "      <td>lead_time</td>\n",
       "      <td>Gap b/w booking and arrival date</td>\n",
       "      <td>Int</td>\n",
       "    </tr>\n",
       "    <tr>\n",
       "      <th>6</th>\n",
       "      <td>market_segment_type</td>\n",
       "      <td>Market segmentation</td>\n",
       "      <td>Cate</td>\n",
       "    </tr>\n",
       "    <tr>\n",
       "      <th>7</th>\n",
       "      <td>repeated_guest</td>\n",
       "      <td>Whether booked before no matter cancelled or not</td>\n",
       "      <td>Bin</td>\n",
       "    </tr>\n",
       "    <tr>\n",
       "      <th>8</th>\n",
       "      <td>avg_price_per_room</td>\n",
       "      <td>Average room price per day (in euros)</td>\n",
       "      <td>Con</td>\n",
       "    </tr>\n",
       "    <tr>\n",
       "      <th>9</th>\n",
       "      <td>cx_rsvn_pcg</td>\n",
       "      <td>History cancelling rate (in %)</td>\n",
       "      <td>Con</td>\n",
       "    </tr>\n",
       "    <tr>\n",
       "      <th>10</th>\n",
       "      <td>nights_ttl</td>\n",
       "      <td>Number of nights stayed</td>\n",
       "      <td>Int</td>\n",
       "    </tr>\n",
       "  </tbody>\n",
       "</table>\n",
       "</div>"
      ],
      "text/plain": [
       "                      col_name  \\\n",
       "0                 no_of_adults   \n",
       "1                     children   \n",
       "2            type_of_meal_plan   \n",
       "3   required_car_parking_space   \n",
       "4           room_type_reserved   \n",
       "5                    lead_time   \n",
       "6          market_segment_type   \n",
       "7               repeated_guest   \n",
       "8           avg_price_per_room   \n",
       "9                  cx_rsvn_pcg   \n",
       "10                  nights_ttl   \n",
       "\n",
       "                                              interp   dtp  \n",
       "0                                   Number of adults   Int  \n",
       "1                                 Number of Children   Bin  \n",
       "2                           Type of meal plan booked  Cate  \n",
       "3                         Car parking space required   Bin  \n",
       "4                              Type of room reserved  Cate  \n",
       "5                   Gap b/w booking and arrival date   Int  \n",
       "6                                Market segmentation  Cate  \n",
       "7   Whether booked before no matter cancelled or not   Bin  \n",
       "8              Average room price per day (in euros)   Con  \n",
       "9                     History cancelling rate (in %)   Con  \n",
       "10                           Number of nights stayed   Int  "
      ]
     },
     "execution_count": 15,
     "metadata": {},
     "output_type": "execute_result"
    }
   ],
   "source": [
    "names = ['no_of_adults', 'children', 'type_of_meal_plan',\n",
    "       'required_car_parking_space', 'room_type_reserved', 'lead_time',\n",
    "       'market_segment_type', 'repeated_guest', 'avg_price_per_room','cx_rsvn_pcg', 'nights_ttl']\n",
    "interp = ['Number of adults',\n",
    "          'Number of Children',\n",
    "          'Type of meal plan booked',\n",
    "          'Car parking space required',\n",
    "          'Type of room reserved',\n",
    "          'Gap b/w booking and arrival date',\n",
    "          'Market segmentation',\n",
    "          'Whether booked before no matter cancelled or not',\n",
    "          'Average room price per day (in euros)',\n",
    "          'History cancelling rate (in %)',\n",
    "          'Number of nights stayed']\n",
    "dtype = ['Int', 'Bin', 'Cate', 'Bin', 'Cate', 'Int', 'Cate', 'Bin', 'Con', 'Con', 'Int']\n",
    "# range_level = rsvn.apply(pd.Series.nunique).values\n",
    "rsvn_sum3 =  pd.DataFrame(\n",
    "     {'col_name' : names,\n",
    "      'interp' : interp,\n",
    "      'dtp' : dtype,\n",
    "      # 'range.or.level' : range_level\n",
    "})\n",
    "rsvn_sum3"
   ]
  },
  {
   "cell_type": "code",
   "execution_count": 16,
   "id": "2f294725-3a09-4e70-a9ee-234c5a0303ff",
   "metadata": {},
   "outputs": [
    {
     "name": "stdout",
     "output_type": "stream",
     "text": [
      "Numerical: ['no_of_adults' 'lead_time' 'avg_price_per_room' 'cx_rsvn_pcg'\n",
      " 'nights_ttl']\n",
      " Categorical: ['type_of_meal_plan' 'room_type_reserved' 'market_segment_type'] \n",
      " Binary: ['children' 'required_car_parking_space' 'repeated_guest']\n"
     ]
    }
   ],
   "source": [
    "numerical_columns = rsvn_sum3[(rsvn_sum3['dtp'] == 'Int') | (rsvn_sum3['dtp'] == 'Con')]['col_name'].values\n",
    "categorical_columns = rsvn_sum3[(rsvn_sum3['dtp'] == 'Cate')]['col_name'].values\n",
    "binary_columns = rsvn_sum3[(rsvn_sum3['dtp'] == 'Bin')]['col_name'].values\n",
    "\n",
    "print(f'Numerical: {numerical_columns}\\n Categorical: {categorical_columns} \\n Binary: {binary_columns}')"
   ]
  },
  {
   "cell_type": "markdown",
   "id": "67489d9e-0731-4fca-b1ac-f637fa278ed9",
   "metadata": {},
   "source": [
    "# 2. Exploratory Data Analysis & Visualization\n",
    "### General Relation among the Variables"
   ]
  },
  {
   "cell_type": "code",
   "execution_count": 17,
   "id": "71749377-2aab-4b1b-b94e-9d50a8d1ff2d",
   "metadata": {},
   "outputs": [],
   "source": [
    "# rsvn_viz = sns.PairGrid(rsvn, hue=\"booking_status\")\n",
    "# rsvn_viz.map_diag(sns.histplot)\n",
    "# rsvn_viz.map_offdiag(sns.scatterplot)\n",
    "# rsvn_viz.add_legend()\n",
    "# rsvn_viz.savefig(\"results/rsvn_viz.png\", dpi=40, bbox_inches=\"tight\")"
   ]
  },
  {
   "cell_type": "markdown",
   "id": "b6719a86-f03c-4c8c-bdd5-8fe1539f1ad2",
   "metadata": {},
   "source": [
    "### 2.2 The Component of each Booking "
   ]
  },
  {
   "cell_type": "code",
   "execution_count": 18,
   "id": "9575dd85-e815-4bf1-92e7-f505cacd76ef",
   "metadata": {},
   "outputs": [
    {
     "data": {
      "text/html": [
       "<div>\n",
       "<style scoped>\n",
       "    .dataframe tbody tr th:only-of-type {\n",
       "        vertical-align: middle;\n",
       "    }\n",
       "\n",
       "    .dataframe tbody tr th {\n",
       "        vertical-align: top;\n",
       "    }\n",
       "\n",
       "    .dataframe thead th {\n",
       "        text-align: right;\n",
       "    }\n",
       "</style>\n",
       "<table border=\"1\" class=\"dataframe\">\n",
       "  <thead>\n",
       "    <tr style=\"text-align: right;\">\n",
       "      <th></th>\n",
       "      <th>no_of_adults</th>\n",
       "      <th>children</th>\n",
       "      <th>booking_status</th>\n",
       "    </tr>\n",
       "  </thead>\n",
       "  <tbody>\n",
       "    <tr>\n",
       "      <th>0</th>\n",
       "      <td>adults</td>\n",
       "      <td>0</td>\n",
       "      <td>Not_Canceled</td>\n",
       "    </tr>\n",
       "    <tr>\n",
       "      <th>1</th>\n",
       "      <td>adults</td>\n",
       "      <td>0</td>\n",
       "      <td>Not_Canceled</td>\n",
       "    </tr>\n",
       "    <tr>\n",
       "      <th>2</th>\n",
       "      <td>adults</td>\n",
       "      <td>0</td>\n",
       "      <td>Canceled</td>\n",
       "    </tr>\n",
       "    <tr>\n",
       "      <th>3</th>\n",
       "      <td>adults</td>\n",
       "      <td>0</td>\n",
       "      <td>Canceled</td>\n",
       "    </tr>\n",
       "    <tr>\n",
       "      <th>4</th>\n",
       "      <td>adults</td>\n",
       "      <td>0</td>\n",
       "      <td>Canceled</td>\n",
       "    </tr>\n",
       "  </tbody>\n",
       "</table>\n",
       "</div>"
      ],
      "text/plain": [
       "  no_of_adults  children booking_status\n",
       "0       adults         0   Not_Canceled\n",
       "1       adults         0   Not_Canceled\n",
       "2       adults         0       Canceled\n",
       "3       adults         0       Canceled\n",
       "4       adults         0       Canceled"
      ]
     },
     "execution_count": 18,
     "metadata": {},
     "output_type": "execute_result"
    }
   ],
   "source": [
    "def adults(s):\n",
    "    if s == 0:\n",
    "        return 'no_adult'\n",
    "    else:\n",
    "        return 'adults'\n",
    "rsvn1 = rsvn.copy()\n",
    "rsvn1['no_of_adults'] = rsvn1['no_of_adults'].agg(adults)\n",
    "rsvn1= rsvn1[['no_of_adults', 'children', 'booking_status']]\n",
    "rsvn1.head()"
   ]
  },
  {
   "cell_type": "code",
   "execution_count": 19,
   "id": "55b6e568-ea1f-4b53-88c0-c05c7f38c345",
   "metadata": {},
   "outputs": [
    {
     "data": {
      "text/plain": [
       "<Axes: ylabel='Not_Canceled'>"
      ]
     },
     "execution_count": 19,
     "metadata": {},
     "output_type": "execute_result"
    },
    {
     "data": {
      "image/png": "[encoded data removed]",
      "text/plain": [
       "<Figure size 640x480 with 2 Axes>"
      ]
     },
     "metadata": {},
     "output_type": "display_data"
    }
   ],
   "source": [
    "rsvn_ad_ch_cx = rsvn1[(rsvn1['no_of_adults'] == 'adults') & (rsvn1['children'] == 1) & (rsvn1['booking_status'] == 'Canceled')]\n",
    "ad_ch_cx_count = rsvn_ad_ch_cx.count().unique()[0]\n",
    "\n",
    "rsvn_ad_cx = rsvn1[(rsvn1['no_of_adults'] == 'adults') & (rsvn1['children'] == 0) & (rsvn1['booking_status'] == 'Canceled')]\n",
    "ad_cx_count = rsvn_ad_ch_cx.count().unique()[0]\n",
    "\n",
    "rsvn_cx = rsvn1[(rsvn1['no_of_adults'] == 'no_adult') & (rsvn1['children'] == 1) & (rsvn1['booking_status'] == 'Canceled')]\n",
    "cx_count = rsvn_cx.count().unique()[0]\n",
    "\n",
    "\n",
    "\n",
    "rsvn_ad_ch_ncx = rsvn1[(rsvn1['no_of_adults'] == 'adults') & (rsvn1['children'] == 1) & (rsvn1['booking_status'] == 'Not_Canceled')]\n",
    "ad_ch_ncx_count = rsvn_ad_ch_ncx.count().unique()[0]\n",
    "\n",
    "rsvn_ad_ncx = rsvn1[(rsvn1['no_of_adults'] == 'adults') & (rsvn1['children'] == 0) & (rsvn1['booking_status'] == 'Not_Canceled')]\n",
    "ad_ncx_count = rsvn_ad_ch_ncx.count().unique()[0]\n",
    "\n",
    "rsvn_ncx = rsvn1[(rsvn1['no_of_adults'] == 'no_adult') & (rsvn1['children'] == 1) & (rsvn1['booking_status'] == 'Not_Canceled')]\n",
    "ncx_count = rsvn_ncx.count().unique()[0]\n",
    "\n",
    "component = pd.DataFrame(\n",
    "    data = {\n",
    "        'Canceled' : [ad_ch_cx_count, ad_cx_count, cx_count],\n",
    "        'Not_Canceled' : [ad_ch_ncx_count, ad_ncx_count, ncx_count]\n",
    "    },\n",
    "    index = ['adult_child', 'adult_only', 'child_only']\n",
    ")\n",
    "\n",
    "fig, ax = plt.subplots(1,2)\n",
    "component['Canceled'].plot(kind = 'pie', ax = ax[0], autopct = '%1.1f%%')\n",
    "component['Not_Canceled'].plot(kind = 'pie', ax = ax[1], autopct = '%1.1f%%')"
   ]
  },
  {
   "cell_type": "markdown",
   "id": "873aee26-e2f0-48e4-b4c3-d16c8b79b052",
   "metadata": {},
   "source": [
    "### 2.3 Lead Time"
   ]
  },
  {
   "cell_type": "code",
   "execution_count": 20,
   "id": "f67824fe-0496-4233-a317-d1af0bf2787d",
   "metadata": {},
   "outputs": [
    {
     "data": {
      "text/plain": [
       "<Axes: ylabel='Frequency'>"
      ]
     },
     "execution_count": 20,
     "metadata": {},
     "output_type": "execute_result"
    },
    {
     "data": {
      "image/png": "[encoded data removed]",
      "text/plain": [
       "<Figure size 640x480 with 1 Axes>"
      ]
     },
     "metadata": {},
     "output_type": "display_data"
    }
   ],
   "source": [
    "fig, ax1 = plt.subplots()\n",
    "rsvn.loc[rsvn['booking_status'] == 'Canceled','lead_time'].plot(kind = 'hist', ax = ax1, alpha=0.5)\n",
    "rsvn.loc[rsvn['booking_status'] == 'Not_Canceled','lead_time'].plot(kind = 'hist', ax = ax1, alpha=0.5)"
   ]
  },
  {
   "cell_type": "markdown",
   "id": "b2cc5193-09f2-45ec-9766-c846303d7d3e",
   "metadata": {},
   "source": [
    "### 2.4 Room Type"
   ]
  },
  {
   "cell_type": "code",
   "execution_count": 21,
   "id": "8c4bc9e7-36af-48d4-97ca-b08ec2f9859a",
   "metadata": {},
   "outputs": [
    {
     "data": {
      "text/plain": [
       "<Axes: xlabel='room_type_reserved'>"
      ]
     },
     "execution_count": 21,
     "metadata": {},
     "output_type": "execute_result"
    },
    {
     "data": {
      "image/png": "[encoded data removed]",
      "text/plain": [
       "<Figure size 640x480 with 2 Axes>"
      ]
     },
     "metadata": {},
     "output_type": "display_data"
    }
   ],
   "source": [
    "fig, axroom1 = plt.subplots()\n",
    "room = rsvn[['room_type_reserved', 'booking_status']].groupby(['room_type_reserved', 'booking_status']).size()\n",
    "room = room.unstack()\n",
    "room.plot(kind = 'bar', ax =axroom1)\n",
    "\n",
    "axroom2 = axroom1.twinx()\n",
    "roomq = rsvn[['room_type_reserved', 'avg_price_per_room','booking_status']].groupby(['room_type_reserved', 'booking_status']).mean()\n",
    "roomq = roomq.unstack()\n",
    "roomq.plot(kind = 'line', ax = axroom2)"
   ]
  },
  {
   "cell_type": "markdown",
   "id": "27eff261-d852-4a11-83ab-930f2f8286d8",
   "metadata": {},
   "source": [
    "## 2.4 Average Prices per Night vs Booking Status"
   ]
  },
  {
   "cell_type": "code",
   "execution_count": 22,
   "id": "185523a3-83fe-42d9-83cc-27c8964ad8ea",
   "metadata": {},
   "outputs": [
    {
     "data": {
      "image/png": "[encoded data removed]",
      "text/plain": [
       "<Figure size 640x480 with 2 Axes>"
      ]
     },
     "metadata": {},
     "output_type": "display_data"
    }
   ],
   "source": [
    "status = rsvn['booking_status'].unique()\n",
    "fig, ax = plt.subplots(1,len(status), sharey=True)\n",
    "\n",
    "rsvn_pr_bk = rsvn.loc[:, ['booking_status', 'avg_price_per_room']]\n",
    "rsvn_pr_bk.set_index('booking_status', inplace=True)\n",
    "\n",
    "for i in range(0,len(status)):\n",
    "    rsvn_pr_bk.loc[status[i]].plot(kind = 'box', ax = ax[i], xlabel = status[i])\n",
    "    ax[i].spines[['left', 'right', 'top' ,'bottom']].set_visible(False)\n",
    "    ax[i].tick_params(which=\"both\", left=False, labelbottom=False)\n",
    "fig.tight_layout()"
   ]
  },
  {
   "cell_type": "markdown",
   "id": "91f38d06-f999-40d6-819c-db81bee72930",
   "metadata": {},
   "source": [
    "## 2.5 repeated guest vs cx_rsvn_pcg vs booking_status"
   ]
  },
  {
   "cell_type": "code",
   "execution_count": 23,
   "id": "354ea4cf-40b8-46aa-852b-d6f0e0eca18b",
   "metadata": {},
   "outputs": [
    {
     "data": {
      "text/plain": [
       "<Axes: ylabel='booking_status'>"
      ]
     },
     "execution_count": 23,
     "metadata": {},
     "output_type": "execute_result"
    },
    {
     "data": {
      "image/png": "[encoded data removed]",
      "text/plain": [
       "<Figure size 640x480 with 1 Axes>"
      ]
     },
     "metadata": {},
     "output_type": "display_data"
    }
   ],
   "source": [
    "rsvn[['repeated_guest', 'booking_status']].groupby(['repeated_guest']).count().plot(kind = 'pie', y = 'booking_status', autopct = '%1.1f%%', legend = ['cancelled', 'confirmed'])"
   ]
  },
  {
   "cell_type": "code",
   "execution_count": 24,
   "id": "9243c27d-0562-4023-a1e5-9cf32d32618f",
   "metadata": {},
   "outputs": [
    {
     "data": {
      "text/plain": [
       "cx_rsvn_pcg    Axes(0.125,0.11;0.775x0.77)\n",
       "dtype: object"
      ]
     },
     "execution_count": 24,
     "metadata": {},
     "output_type": "execute_result"
    },
    {
     "data": {
      "image/png": "[encoded data removed]",
      "text/plain": [
       "<Figure size 640x480 with 1 Axes>"
      ]
     },
     "metadata": {},
     "output_type": "display_data"
    }
   ],
   "source": [
    "# rsvn[['repeated_guest', 'cx_rsvn_pcg', 'booking_status']].groupby(['repeated_guest', 'booking_status']).size()#['repeated_guest']==1\n",
    "df = rsvn.loc[rsvn['repeated_guest'] == 1,['repeated_guest', 'booking_status', 'cx_rsvn_pcg']]\n",
    "df[['booking_status','cx_rsvn_pcg']].plot(kind = 'box', by = 'booking_status', title = 'repeated guests')"
   ]
  },
  {
   "cell_type": "markdown",
   "id": "6f5607eb-2822-48fb-af7f-2035db23c022",
   "metadata": {},
   "source": [
    "## 2.6 Market Segment vs booking status"
   ]
  },
  {
   "cell_type": "code",
   "execution_count": 25,
   "id": "60290044-a6ee-40a0-a9ea-a869875e1a72",
   "metadata": {},
   "outputs": [
    {
     "data": {
      "text/plain": [
       "<Axes: xlabel='market_segment_type'>"
      ]
     },
     "execution_count": 25,
     "metadata": {},
     "output_type": "execute_result"
    },
    {
     "data": {
      "image/png": "[encoded data removed]",
      "text/plain": [
       "<Figure size 640x480 with 1 Axes>"
      ]
     },
     "metadata": {},
     "output_type": "display_data"
    }
   ],
   "source": [
    "bb = rsvn[['market_segment_type', 'booking_status']]\n",
    "bb['market_segment_type']\n",
    "bb.groupby(['market_segment_type','booking_status'])['booking_status'].count().unstack().plot(kind = 'bar')"
   ]
  },
  {
   "cell_type": "code",
   "execution_count": 26,
   "id": "891572ce-f6fa-4501-be0e-bbf7c186dcc0",
   "metadata": {},
   "outputs": [
    {
     "data": {
      "text/plain": [
       "<Axes: ylabel='booking_status'>"
      ]
     },
     "execution_count": 26,
     "metadata": {},
     "output_type": "execute_result"
    },
    {
     "data": {
      "image/png": "[encoded data removed]",
      "text/plain": [
       "<Figure size 640x480 with 1 Axes>"
      ]
     },
     "metadata": {},
     "output_type": "display_data"
    }
   ],
   "source": [
    "bb[['market_segment_type','booking_status']].groupby('market_segment_type').count().plot(kind = 'pie', y = 'booking_status')"
   ]
  },
  {
   "cell_type": "markdown",
   "id": "85d833f2-e64a-4031-b89b-43bbe88d8f02",
   "metadata": {},
   "source": [
    "### Data Splitting"
   ]
  },
  {
   "cell_type": "code",
   "execution_count": 41,
   "id": "d8f37ce1-bbb1-4990-9553-542b408f6bef",
   "metadata": {},
   "outputs": [],
   "source": [
    "X = rsvn.drop(columns=[\"booking_status\"]) \n",
    "y = rsvn.booking_status\n",
    "X_train, X_test, y_train, y_test = train_test_split(X, y, test_size=0.2, random_state=42)"
   ]
  },
  {
   "cell_type": "markdown",
   "id": "49fc65b1-f3da-4000-b7a2-cc92286d9e72",
   "metadata": {},
   "source": [
    "### 1.4 Preliminary analysis and results"
   ]
  },
  {
   "cell_type": "markdown",
   "id": "0bf2e6b4-c950-49b7-886a-b895c91dc168",
   "metadata": {},
   "source": [
    "\n",
    "The dimension of the cleaned data frame for analysis is 36275 x 12 which contains 5 numerical variables, 3 categorical variables and 4 binary variables including the target variable `booking_status`. \n",
    "\n",
    "It is notable that `cx_rsvn_pcg`, the rate of previous bookings that were canceled by the customer prior to the current booking, contains many missing values. This indicates the customer never ever booked this hotel before, no matter the booking was canceled or not, so the corresponding value for `repeated_guest` would be 0.\n",
    "\n",
    "Some children booked this hotel without the accompanies by any adults which can be seen from `0` in `no_of_adults` with `1` in `children`. So it might also be meaningful to pay additional attention to the feedback from some adults with `children = 1` and see their satisfactory of the safety of this hotel."
   ]
  },
  {
   "cell_type": "markdown",
   "id": "73ca76ab-82cd-4310-a640-742b94650461",
   "metadata": {},
   "source": [
    "### Correlation between variables"
   ]
  },
  {
   "cell_type": "markdown",
   "id": "b300638a-6ba2-4097-b8d5-245cfe75c956",
   "metadata": {},
   "source": [
    "TODO: Explanation \n",
    "\n",
    "n"
   ]
  },
  {
   "cell_type": "code",
   "execution_count": 42,
   "id": "8bb3365b-6ec0-4991-9f5b-6e608cf73273",
   "metadata": {},
   "outputs": [
    {
     "name": "stderr",
     "output_type": "stream",
     "text": [
      "/var/folders/1n/010jxkq15qv5_lk6s10mg0bh0000gn/T/ipykernel_6725/1697583311.py:1: FutureWarning: The default value of numeric_only in DataFrame.corr is deprecated. In a future version, it will default to False. Select only valid columns or specify the value of numeric_only to silence this warning.\n",
      "  cor = X.corr()\n"
     ]
    },
    {
     "data": {
      "image/png": "[encoded data removed]",
      "text/plain": [
       "<Figure size 600x400 with 2 Axes>"
      ]
     },
     "metadata": {},
     "output_type": "display_data"
    }
   ],
   "source": [
    "cor = X.corr()\n",
    "plt.figure(figsize=(6, 4))\n",
    "sns.set(font_scale=0.8)\n",
    "sns.heatmap(cor, annot=True, cmap=plt.cm.Blues);"
   ]
  },
  {
   "cell_type": "markdown",
   "id": "727f17bf-6c61-4b0b-b7bb-fc1a6a2dffb4",
   "metadata": {},
   "source": [
    "maybe buid a network based on the correlation by filtering only the variabels with abs(cor)>0.7 see which variabel can potentially effect serval other factors simuteniuosly "
   ]
  },
  {
   "cell_type": "markdown",
   "id": "843e57ec-a964-44d0-9d02-3d4cde99093a",
   "metadata": {},
   "source": [
    "# Preprocessing"
   ]
  },
  {
   "cell_type": "code",
   "execution_count": 29,
   "id": "6225c8b3-4178-481c-bdc8-a52712cef4ce",
   "metadata": {},
   "outputs": [
    {
     "name": "stderr",
     "output_type": "stream",
     "text": [
      "/Users/jinghan/miniforge3/envs/dsci310/lib/python3.10/site-packages/sklearn/preprocessing/_encoders.py:868: FutureWarning: `sparse` was renamed to `sparse_output` in version 1.2 and will be removed in 1.4. `sparse_output` is ignored unless you leave `sparse` to its default value.\n",
      "  warnings.warn(\n"
     ]
    }
   ],
   "source": [
    "numeric_transformer = StandardScaler()\n",
    "categorical_transformer = OneHotEncoder(handle_unknown=\"ignore\", sparse=False)\n",
    "\n",
    "ct = make_column_transformer(\n",
    "    (numeric_transformer, numerical_columns),\n",
    "    (categorical_transformer, categorical_columns),\n",
    "    (\"passthrough\", binary_columns)\n",
    ")\n",
    "\n",
    "transformed_df = pd.DataFrame(ct.fit_transform(X_train))\n",
    "new_labels = ['no_of_adults', 'lead_time', 'avg_price_per_room', 'cx_rsvn_pcg', 'nights_ttl', 'meal_plan_1', 'meal_plan_2',\n",
    "              'meal_plan_3', 'meal_not_selected', 'room type 1', 'room type 2' , 'room type 3', 'room type 4',  'room type 5',\n",
    "              'room type 6', 'room type 7', 'aviation', 'complementary', 'corporate', 'offline', 'online',\n",
    "              'children', 'required_car_parking_space', 'repeated_guest']\n",
    "transformed_df.columns = new_labels"
   ]
  },
  {
   "cell_type": "code",
   "execution_count": 30,
   "id": "ed16091a-5b13-46e7-80dd-ec04042ce043",
   "metadata": {},
   "outputs": [
    {
     "data": {
      "text/html": [
       "<div>\n",
       "<style scoped>\n",
       "    .dataframe tbody tr th:only-of-type {\n",
       "        vertical-align: middle;\n",
       "    }\n",
       "\n",
       "    .dataframe tbody tr th {\n",
       "        vertical-align: top;\n",
       "    }\n",
       "\n",
       "    .dataframe thead th {\n",
       "        text-align: right;\n",
       "    }\n",
       "</style>\n",
       "<table border=\"1\" class=\"dataframe\">\n",
       "  <thead>\n",
       "    <tr style=\"text-align: right;\">\n",
       "      <th></th>\n",
       "      <th>no_of_adults</th>\n",
       "      <th>lead_time</th>\n",
       "      <th>avg_price_per_room</th>\n",
       "      <th>cx_rsvn_pcg</th>\n",
       "      <th>nights_ttl</th>\n",
       "      <th>meal_plan_1</th>\n",
       "      <th>meal_plan_2</th>\n",
       "      <th>meal_plan_3</th>\n",
       "      <th>meal_not_selected</th>\n",
       "      <th>room type 1</th>\n",
       "      <th>...</th>\n",
       "      <th>room type 6</th>\n",
       "      <th>room type 7</th>\n",
       "      <th>aviation</th>\n",
       "      <th>complementary</th>\n",
       "      <th>corporate</th>\n",
       "      <th>offline</th>\n",
       "      <th>online</th>\n",
       "      <th>children</th>\n",
       "      <th>required_car_parking_space</th>\n",
       "      <th>repeated_guest</th>\n",
       "    </tr>\n",
       "  </thead>\n",
       "  <tbody>\n",
       "    <tr>\n",
       "      <th>0</th>\n",
       "      <td>0.300222</td>\n",
       "      <td>-0.691565</td>\n",
       "      <td>1.636392</td>\n",
       "      <td>-0.076401</td>\n",
       "      <td>-0.005584</td>\n",
       "      <td>1.0</td>\n",
       "      <td>0.0</td>\n",
       "      <td>0.0</td>\n",
       "      <td>0.0</td>\n",
       "      <td>1.0</td>\n",
       "      <td>...</td>\n",
       "      <td>0.0</td>\n",
       "      <td>0.0</td>\n",
       "      <td>0.0</td>\n",
       "      <td>0.0</td>\n",
       "      <td>0.0</td>\n",
       "      <td>0.0</td>\n",
       "      <td>1.0</td>\n",
       "      <td>1.0</td>\n",
       "      <td>0.0</td>\n",
       "      <td>0.0</td>\n",
       "    </tr>\n",
       "    <tr>\n",
       "      <th>1</th>\n",
       "      <td>0.300222</td>\n",
       "      <td>0.147033</td>\n",
       "      <td>0.512227</td>\n",
       "      <td>-0.076401</td>\n",
       "      <td>-0.570254</td>\n",
       "      <td>1.0</td>\n",
       "      <td>0.0</td>\n",
       "      <td>0.0</td>\n",
       "      <td>0.0</td>\n",
       "      <td>1.0</td>\n",
       "      <td>...</td>\n",
       "      <td>0.0</td>\n",
       "      <td>0.0</td>\n",
       "      <td>0.0</td>\n",
       "      <td>0.0</td>\n",
       "      <td>0.0</td>\n",
       "      <td>0.0</td>\n",
       "      <td>1.0</td>\n",
       "      <td>1.0</td>\n",
       "      <td>0.0</td>\n",
       "      <td>0.0</td>\n",
       "    </tr>\n",
       "    <tr>\n",
       "      <th>2</th>\n",
       "      <td>0.300222</td>\n",
       "      <td>4.048843</td>\n",
       "      <td>-0.953457</td>\n",
       "      <td>-0.076401</td>\n",
       "      <td>-0.005584</td>\n",
       "      <td>1.0</td>\n",
       "      <td>0.0</td>\n",
       "      <td>0.0</td>\n",
       "      <td>0.0</td>\n",
       "      <td>1.0</td>\n",
       "      <td>...</td>\n",
       "      <td>0.0</td>\n",
       "      <td>0.0</td>\n",
       "      <td>0.0</td>\n",
       "      <td>0.0</td>\n",
       "      <td>0.0</td>\n",
       "      <td>1.0</td>\n",
       "      <td>0.0</td>\n",
       "      <td>0.0</td>\n",
       "      <td>0.0</td>\n",
       "      <td>0.0</td>\n",
       "    </tr>\n",
       "    <tr>\n",
       "      <th>3</th>\n",
       "      <td>0.300222</td>\n",
       "      <td>1.276811</td>\n",
       "      <td>-0.889422</td>\n",
       "      <td>-0.076401</td>\n",
       "      <td>2.253093</td>\n",
       "      <td>1.0</td>\n",
       "      <td>0.0</td>\n",
       "      <td>0.0</td>\n",
       "      <td>0.0</td>\n",
       "      <td>1.0</td>\n",
       "      <td>...</td>\n",
       "      <td>0.0</td>\n",
       "      <td>0.0</td>\n",
       "      <td>0.0</td>\n",
       "      <td>0.0</td>\n",
       "      <td>0.0</td>\n",
       "      <td>1.0</td>\n",
       "      <td>0.0</td>\n",
       "      <td>0.0</td>\n",
       "      <td>0.0</td>\n",
       "      <td>0.0</td>\n",
       "    </tr>\n",
       "    <tr>\n",
       "      <th>4</th>\n",
       "      <td>-1.627739</td>\n",
       "      <td>1.195281</td>\n",
       "      <td>0.754136</td>\n",
       "      <td>-0.076401</td>\n",
       "      <td>-0.570254</td>\n",
       "      <td>1.0</td>\n",
       "      <td>0.0</td>\n",
       "      <td>0.0</td>\n",
       "      <td>0.0</td>\n",
       "      <td>1.0</td>\n",
       "      <td>...</td>\n",
       "      <td>0.0</td>\n",
       "      <td>0.0</td>\n",
       "      <td>0.0</td>\n",
       "      <td>0.0</td>\n",
       "      <td>0.0</td>\n",
       "      <td>1.0</td>\n",
       "      <td>0.0</td>\n",
       "      <td>0.0</td>\n",
       "      <td>0.0</td>\n",
       "      <td>0.0</td>\n",
       "    </tr>\n",
       "    <tr>\n",
       "      <th>...</th>\n",
       "      <td>...</td>\n",
       "      <td>...</td>\n",
       "      <td>...</td>\n",
       "      <td>...</td>\n",
       "      <td>...</td>\n",
       "      <td>...</td>\n",
       "      <td>...</td>\n",
       "      <td>...</td>\n",
       "      <td>...</td>\n",
       "      <td>...</td>\n",
       "      <td>...</td>\n",
       "      <td>...</td>\n",
       "      <td>...</td>\n",
       "      <td>...</td>\n",
       "      <td>...</td>\n",
       "      <td>...</td>\n",
       "      <td>...</td>\n",
       "      <td>...</td>\n",
       "      <td>...</td>\n",
       "      <td>...</td>\n",
       "      <td>...</td>\n",
       "    </tr>\n",
       "    <tr>\n",
       "      <th>29015</th>\n",
       "      <td>0.300222</td>\n",
       "      <td>-0.493562</td>\n",
       "      <td>-1.380355</td>\n",
       "      <td>-0.076401</td>\n",
       "      <td>0.559085</td>\n",
       "      <td>1.0</td>\n",
       "      <td>0.0</td>\n",
       "      <td>0.0</td>\n",
       "      <td>0.0</td>\n",
       "      <td>1.0</td>\n",
       "      <td>...</td>\n",
       "      <td>0.0</td>\n",
       "      <td>0.0</td>\n",
       "      <td>0.0</td>\n",
       "      <td>0.0</td>\n",
       "      <td>0.0</td>\n",
       "      <td>1.0</td>\n",
       "      <td>0.0</td>\n",
       "      <td>0.0</td>\n",
       "      <td>0.0</td>\n",
       "      <td>0.0</td>\n",
       "    </tr>\n",
       "    <tr>\n",
       "      <th>29016</th>\n",
       "      <td>-1.627739</td>\n",
       "      <td>0.193622</td>\n",
       "      <td>-0.668858</td>\n",
       "      <td>-0.076401</td>\n",
       "      <td>-0.570254</td>\n",
       "      <td>0.0</td>\n",
       "      <td>1.0</td>\n",
       "      <td>0.0</td>\n",
       "      <td>0.0</td>\n",
       "      <td>1.0</td>\n",
       "      <td>...</td>\n",
       "      <td>0.0</td>\n",
       "      <td>0.0</td>\n",
       "      <td>0.0</td>\n",
       "      <td>0.0</td>\n",
       "      <td>0.0</td>\n",
       "      <td>0.0</td>\n",
       "      <td>1.0</td>\n",
       "      <td>0.0</td>\n",
       "      <td>0.0</td>\n",
       "      <td>0.0</td>\n",
       "    </tr>\n",
       "    <tr>\n",
       "      <th>29017</th>\n",
       "      <td>0.300222</td>\n",
       "      <td>-0.936156</td>\n",
       "      <td>0.184938</td>\n",
       "      <td>-0.076401</td>\n",
       "      <td>-0.570254</td>\n",
       "      <td>1.0</td>\n",
       "      <td>0.0</td>\n",
       "      <td>0.0</td>\n",
       "      <td>0.0</td>\n",
       "      <td>1.0</td>\n",
       "      <td>...</td>\n",
       "      <td>0.0</td>\n",
       "      <td>0.0</td>\n",
       "      <td>0.0</td>\n",
       "      <td>0.0</td>\n",
       "      <td>1.0</td>\n",
       "      <td>0.0</td>\n",
       "      <td>0.0</td>\n",
       "      <td>0.0</td>\n",
       "      <td>0.0</td>\n",
       "      <td>0.0</td>\n",
       "    </tr>\n",
       "    <tr>\n",
       "      <th>29018</th>\n",
       "      <td>0.300222</td>\n",
       "      <td>1.486460</td>\n",
       "      <td>0.754136</td>\n",
       "      <td>-0.076401</td>\n",
       "      <td>-0.005584</td>\n",
       "      <td>1.0</td>\n",
       "      <td>0.0</td>\n",
       "      <td>0.0</td>\n",
       "      <td>0.0</td>\n",
       "      <td>1.0</td>\n",
       "      <td>...</td>\n",
       "      <td>0.0</td>\n",
       "      <td>0.0</td>\n",
       "      <td>0.0</td>\n",
       "      <td>0.0</td>\n",
       "      <td>0.0</td>\n",
       "      <td>0.0</td>\n",
       "      <td>1.0</td>\n",
       "      <td>0.0</td>\n",
       "      <td>0.0</td>\n",
       "      <td>0.0</td>\n",
       "    </tr>\n",
       "    <tr>\n",
       "      <th>29019</th>\n",
       "      <td>0.300222</td>\n",
       "      <td>-0.831331</td>\n",
       "      <td>1.812843</td>\n",
       "      <td>-0.076401</td>\n",
       "      <td>-0.570254</td>\n",
       "      <td>1.0</td>\n",
       "      <td>0.0</td>\n",
       "      <td>0.0</td>\n",
       "      <td>0.0</td>\n",
       "      <td>0.0</td>\n",
       "      <td>...</td>\n",
       "      <td>0.0</td>\n",
       "      <td>0.0</td>\n",
       "      <td>0.0</td>\n",
       "      <td>0.0</td>\n",
       "      <td>0.0</td>\n",
       "      <td>0.0</td>\n",
       "      <td>1.0</td>\n",
       "      <td>0.0</td>\n",
       "      <td>0.0</td>\n",
       "      <td>0.0</td>\n",
       "    </tr>\n",
       "  </tbody>\n",
       "</table>\n",
       "<p>29020 rows × 24 columns</p>\n",
       "</div>"
      ],
      "text/plain": [
       "       no_of_adults  lead_time  avg_price_per_room  cx_rsvn_pcg  nights_ttl  \\\n",
       "0          0.300222  -0.691565            1.636392    -0.076401   -0.005584   \n",
       "1          0.300222   0.147033            0.512227    -0.076401   -0.570254   \n",
       "2          0.300222   4.048843           -0.953457    -0.076401   -0.005584   \n",
       "3          0.300222   1.276811           -0.889422    -0.076401    2.253093   \n",
       "4         -1.627739   1.195281            0.754136    -0.076401   -0.570254   \n",
       "...             ...        ...                 ...          ...         ...   \n",
       "29015      0.300222  -0.493562           -1.380355    -0.076401    0.559085   \n",
       "29016     -1.627739   0.193622           -0.668858    -0.076401   -0.570254   \n",
       "29017      0.300222  -0.936156            0.184938    -0.076401   -0.570254   \n",
       "29018      0.300222   1.486460            0.754136    -0.076401   -0.005584   \n",
       "29019      0.300222  -0.831331            1.812843    -0.076401   -0.570254   \n",
       "\n",
       "       meal_plan_1  meal_plan_2  meal_plan_3  meal_not_selected  room type 1  \\\n",
       "0              1.0          0.0          0.0                0.0          1.0   \n",
       "1              1.0          0.0          0.0                0.0          1.0   \n",
       "2              1.0          0.0          0.0                0.0          1.0   \n",
       "3              1.0          0.0          0.0                0.0          1.0   \n",
       "4              1.0          0.0          0.0                0.0          1.0   \n",
       "...            ...          ...          ...                ...          ...   \n",
       "29015          1.0          0.0          0.0                0.0          1.0   \n",
       "29016          0.0          1.0          0.0                0.0          1.0   \n",
       "29017          1.0          0.0          0.0                0.0          1.0   \n",
       "29018          1.0          0.0          0.0                0.0          1.0   \n",
       "29019          1.0          0.0          0.0                0.0          0.0   \n",
       "\n",
       "       ...  room type 6  room type 7  aviation  complementary  corporate  \\\n",
       "0      ...          0.0          0.0       0.0            0.0        0.0   \n",
       "1      ...          0.0          0.0       0.0            0.0        0.0   \n",
       "2      ...          0.0          0.0       0.0            0.0        0.0   \n",
       "3      ...          0.0          0.0       0.0            0.0        0.0   \n",
       "4      ...          0.0          0.0       0.0            0.0        0.0   \n",
       "...    ...          ...          ...       ...            ...        ...   \n",
       "29015  ...          0.0          0.0       0.0            0.0        0.0   \n",
       "29016  ...          0.0          0.0       0.0            0.0        0.0   \n",
       "29017  ...          0.0          0.0       0.0            0.0        1.0   \n",
       "29018  ...          0.0          0.0       0.0            0.0        0.0   \n",
       "29019  ...          0.0          0.0       0.0            0.0        0.0   \n",
       "\n",
       "       offline  online  children  required_car_parking_space  repeated_guest  \n",
       "0          0.0     1.0       1.0                         0.0             0.0  \n",
       "1          0.0     1.0       1.0                         0.0             0.0  \n",
       "2          1.0     0.0       0.0                         0.0             0.0  \n",
       "3          1.0     0.0       0.0                         0.0             0.0  \n",
       "4          1.0     0.0       0.0                         0.0             0.0  \n",
       "...        ...     ...       ...                         ...             ...  \n",
       "29015      1.0     0.0       0.0                         0.0             0.0  \n",
       "29016      0.0     1.0       0.0                         0.0             0.0  \n",
       "29017      0.0     0.0       0.0                         0.0             0.0  \n",
       "29018      0.0     1.0       0.0                         0.0             0.0  \n",
       "29019      0.0     1.0       0.0                         0.0             0.0  \n",
       "\n",
       "[29020 rows x 24 columns]"
      ]
     },
     "execution_count": 30,
     "metadata": {},
     "output_type": "execute_result"
    }
   ],
   "source": [
    "transformed_df"
   ]
  },
  {
   "cell_type": "markdown",
   "id": "1b3c7eb4-7511-4f33-9ffb-ad373d3e55c2",
   "metadata": {},
   "source": [
    "# Model Selection\n",
    "Selecting the most appropriate model. We observe accuracy, precision and recall scores \n",
    "* Logistic regressionrandom forest decision tree SVC\n",
    "\n",
    "We say false negatives (inaccurately predicting one will not cancel when they will) will be prioritized for the hotel's business purposes and pay attention to recall value. "
   ]
  },
  {
   "cell_type": "code",
   "execution_count": 31,
   "id": "bf131861-6d43-4415-bdf2-3b0ff0ecafb8",
   "metadata": {},
   "outputs": [],
   "source": [
    "y_train = y_train == \"Canceled\"\n",
    "y_test = y_test == \"Canceled\"\n",
    "\n",
    "results = {}"
   ]
  },
  {
   "cell_type": "code",
   "execution_count": 32,
   "id": "1844e4f6-2dff-4e41-ad1c-b64c5f73d4be",
   "metadata": {},
   "outputs": [],
   "source": [
    "def scores(model, X_test, y_test):\n",
    "    scores = []\n",
    "    scores.append(np.round(accuracy_score(y_test, model.predict(X_test)),4))\n",
    "    scores.append(np.round(recall_score(y_test, model.predict(X_test)),4))\n",
    "    scores.append(np.round(f1_score(y_test, model.predict(X_test)),4))\n",
    "    \n",
    "    return pd.Series(data=scores, index=[\"accuracy\", \"recall\", \"f1\"])"
   ]
  },
  {
   "cell_type": "code",
   "execution_count": 33,
   "id": "2bff9fdc-516b-495d-bf87-eea31c42094b",
   "metadata": {},
   "outputs": [
    {
     "name": "stderr",
     "output_type": "stream",
     "text": [
      "/Users/jinghan/miniforge3/envs/dsci310/lib/python3.10/site-packages/sklearn/preprocessing/_encoders.py:868: FutureWarning: `sparse` was renamed to `sparse_output` in version 1.2 and will be removed in 1.4. `sparse_output` is ignored unless you leave `sparse` to its default value.\n",
      "  warnings.warn(\n",
      "/Users/jinghan/miniforge3/envs/dsci310/lib/python3.10/site-packages/sklearn/preprocessing/_encoders.py:868: FutureWarning: `sparse` was renamed to `sparse_output` in version 1.2 and will be removed in 1.4. `sparse_output` is ignored unless you leave `sparse` to its default value.\n",
      "  warnings.warn(\n",
      "/Users/jinghan/miniforge3/envs/dsci310/lib/python3.10/site-packages/sklearn/preprocessing/_encoders.py:868: FutureWarning: `sparse` was renamed to `sparse_output` in version 1.2 and will be removed in 1.4. `sparse_output` is ignored unless you leave `sparse` to its default value.\n",
      "  warnings.warn(\n",
      "/Users/jinghan/miniforge3/envs/dsci310/lib/python3.10/site-packages/sklearn/preprocessing/_encoders.py:868: FutureWarning: `sparse` was renamed to `sparse_output` in version 1.2 and will be removed in 1.4. `sparse_output` is ignored unless you leave `sparse` to its default value.\n",
      "  warnings.warn(\n"
     ]
    },
    {
     "data": {
      "text/html": [
       "<div>\n",
       "<style scoped>\n",
       "    .dataframe tbody tr th:only-of-type {\n",
       "        vertical-align: middle;\n",
       "    }\n",
       "\n",
       "    .dataframe tbody tr th {\n",
       "        vertical-align: top;\n",
       "    }\n",
       "\n",
       "    .dataframe thead th {\n",
       "        text-align: right;\n",
       "    }\n",
       "</style>\n",
       "<table border=\"1\" class=\"dataframe\">\n",
       "  <thead>\n",
       "    <tr style=\"text-align: right;\">\n",
       "      <th></th>\n",
       "      <th>accuracy</th>\n",
       "      <th>recall</th>\n",
       "      <th>f1</th>\n",
       "    </tr>\n",
       "  </thead>\n",
       "  <tbody>\n",
       "    <tr>\n",
       "      <th>logistic regression</th>\n",
       "      <td>0.7626</td>\n",
       "      <td>0.4793</td>\n",
       "      <td>0.5736</td>\n",
       "    </tr>\n",
       "    <tr>\n",
       "      <th>random forest</th>\n",
       "      <td>0.8346</td>\n",
       "      <td>0.6983</td>\n",
       "      <td>0.7376</td>\n",
       "    </tr>\n",
       "    <tr>\n",
       "      <th>decision tree</th>\n",
       "      <td>0.7819</td>\n",
       "      <td>0.4102</td>\n",
       "      <td>0.5561</td>\n",
       "    </tr>\n",
       "    <tr>\n",
       "      <th>SVC</th>\n",
       "      <td>0.7891</td>\n",
       "      <td>0.4565</td>\n",
       "      <td>0.5905</td>\n",
       "    </tr>\n",
       "  </tbody>\n",
       "</table>\n",
       "</div>"
      ],
      "text/plain": [
       "                     accuracy  recall      f1\n",
       "logistic regression    0.7626  0.4793  0.5736\n",
       "random forest          0.8346  0.6983  0.7376\n",
       "decision tree          0.7819  0.4102  0.5561\n",
       "SVC                    0.7891  0.4565  0.5905"
      ]
     },
     "execution_count": 33,
     "metadata": {},
     "output_type": "execute_result"
    }
   ],
   "source": [
    "pipe_lr = make_pipeline(ct, LogisticRegression(solver='lbfgs', max_iter=1000))\n",
    "pipe_lr.fit(X_train, y_train)\n",
    "results[\"logistic regression\"] = scores(pipe_lr, X_test, y_test)\n",
    "\n",
    "pipe_rf = make_pipeline(ct, RandomForestClassifier())\n",
    "pipe_rf.fit(X_train, y_train)\n",
    "results[\"random forest\"] = scores(pipe_rf, X_test, y_test)\n",
    "\n",
    "pipe_dt = make_pipeline(ct, DecisionTreeClassifier(max_depth=5))\n",
    "pipe_dt.fit(X_train, y_train)\n",
    "results[\"decision tree\"] = scores(pipe_dt, X_test, y_test)\n",
    "\n",
    "pipe_svc = make_pipeline(ct, SVC())\n",
    "pipe_svc.fit(X_train, y_train)\n",
    "results[\"SVC\"] = scores(pipe_svc, X_test, y_test)\n",
    "\n",
    "\n",
    "pd.DataFrame(results).T"
   ]
  },
  {
   "cell_type": "markdown",
   "id": "b9170738-b3b9-4f57-aad6-dee59c8b0543",
   "metadata": {},
   "source": [
    "# Variable Selection\n",
    "Selecting the most important features to avoid overfitting on the entire training set"
   ]
  },
  {
   "cell_type": "code",
   "execution_count": 34,
   "id": "3bd29cf6-e1e0-4a16-896c-9f3f35e2f890",
   "metadata": {},
   "outputs": [
    {
     "ename": "NameError",
     "evalue": "name 'eli5' is not defined",
     "output_type": "error",
     "traceback": [
      "\u001b[0;31m---------------------------------------------------------------------------\u001b[0m",
      "\u001b[0;31mNameError\u001b[0m                                 Traceback (most recent call last)",
      "Cell \u001b[0;32mIn[34], line 1\u001b[0m\n\u001b[0;32m----> 1\u001b[0m \u001b[43meli5\u001b[49m\u001b[38;5;241m.\u001b[39mexplain_weights(\n\u001b[1;32m      2\u001b[0m     pipe_lr\u001b[38;5;241m.\u001b[39mnamed_steps[\u001b[38;5;124m\"\u001b[39m\u001b[38;5;124mlogisticregression\u001b[39m\u001b[38;5;124m\"\u001b[39m], feature_names\u001b[38;5;241m=\u001b[39mnew_labels, top\u001b[38;5;241m=\u001b[39m\u001b[38;5;241m30\u001b[39m\n\u001b[1;32m      3\u001b[0m )\n",
      "\u001b[0;31mNameError\u001b[0m: name 'eli5' is not defined"
     ]
    }
   ],
   "source": [
    "eli5.explain_weights(\n",
    "    pipe_lr.named_steps[\"logisticregression\"], feature_names=new_labels, top=30\n",
    ")"
   ]
  },
  {
   "cell_type": "code",
   "execution_count": null,
   "id": "a0cae4e9-4989-401f-9f56-f1beb76a2575",
   "metadata": {},
   "outputs": [],
   "source": [
    "eli5.explain_weights(\n",
    "    pipe_rf.named_steps[\"randomforestclassifier\"], feature_names=new_labels, top=30\n",
    ")"
   ]
  },
  {
   "cell_type": "code",
   "execution_count": null,
   "id": "78ecb765-cf29-4b5e-9391-7ee6e5b4c4e1",
   "metadata": {},
   "outputs": [],
   "source": [
    "eli5.explain_weights(\n",
    "    pipe_dt.named_steps[\"decisiontreeclassifier\"], feature_names=new_labels, top=30\n",
    ")"
   ]
  },
  {
   "cell_type": "markdown",
   "id": "99011625-6d13-4939-be35-dc2013603126",
   "metadata": {},
   "source": [
    "Based on above results, we will drop columns meal plans, repeated guest, and children \n",
    "\n",
    "The most important ones seem to be\n",
    "Lead time\n",
    "Avg price per room\n",
    "Market segment type\n",
    "\n",
    "No of adults "
   ]
  },
  {
   "cell_type": "markdown",
   "id": "565297b4-f054-46f6-b872-75f428321404",
   "metadata": {},
   "source": [
    "### Force Plots"
   ]
  },
  {
   "cell_type": "code",
   "execution_count": null,
   "id": "f7174a70-0ed5-4035-8905-3d5bd3e959a1",
   "metadata": {},
   "outputs": [],
   "source": [
    "# dt_explainer = shap.TreeExplainer(pipe_dt.named_steps[\"decisiontreeclassifier\"])"
   ]
  },
  {
   "cell_type": "code",
   "execution_count": null,
   "id": "aef80d19-e468-4539-9379-51285fd9d03e",
   "metadata": {},
   "outputs": [],
   "source": [
    "# X_test_enc = pd.DataFrame(\n",
    "#     data=ct.transform(X_test),\n",
    "#     columns=feature_names,\n",
    "#     index=X_test.index\n",
    "# )\n",
    "# test_dt_shap_values = dt_explainer.shap_values(X_test_enc)"
   ]
  },
  {
   "cell_type": "code",
   "execution_count": null,
   "id": "5c0088d8-455c-4801-99e3-4f09f5287a44",
   "metadata": {},
   "outputs": [],
   "source": [
    "# shap.force_plot(\n",
    "#     dt_explainer.expected_value[1],\n",
    "#     test_dt_shap_values[1][300, :],\n",
    "#     X_test_enc.iloc[300, :],\n",
    "#     matplotlib=True,\n",
    "# )"
   ]
  },
  {
   "cell_type": "code",
   "execution_count": null,
   "id": "87aa6b3b-1db9-44f3-be60-0b15289076c7",
   "metadata": {},
   "outputs": [],
   "source": []
  }
 ],
 "metadata": {
  "kernelspec": {
   "display_name": "Python 3 (ipykernel)",
   "language": "python",
   "name": "python3"
  },
  "language_info": {
   "codemirror_mode": {
    "name": "ipython",
    "version": 3
   },
   "file_extension": ".py",
   "mimetype": "text/x-python",
   "name": "python",
   "nbconvert_exporter": "python",
   "pygments_lexer": "ipython3",
   "version": "3.10.8"
  }
 },
 "nbformat": 4,
 "nbformat_minor": 5
}
